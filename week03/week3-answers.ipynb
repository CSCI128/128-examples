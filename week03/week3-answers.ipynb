{
 "cells": [
  {
   "cell_type": "markdown",
   "id": "7c553b3c",
   "metadata": {},
   "source": [
    "**Example 1**: What will the following program print out?"
   ]
  },
  {
   "cell_type": "code",
   "execution_count": 1,
   "id": "c4c0ca26",
   "metadata": {},
   "outputs": [
    {
     "name": "stdout",
     "output_type": "stream",
     "text": [
      "Ethan is a student!\n",
      "Ethan is a good student!\n",
      "Age: 19\n"
     ]
    }
   ],
   "source": [
    "is_student = True\n",
    "age = 19\n",
    "name = \"Ethan\"\n",
    "\n",
    "if is_student == True:\n",
    "    print(f\"{name} is a student!\")\n",
    "\n",
    "if is_student:\n",
    "    print(f\"{name} is a good student!\")\n",
    "\n",
    "if not age > 19:\n",
    "    print(f\"Age: {age}\")"
   ]
  },
  {
   "cell_type": "markdown",
   "id": "190eb320",
   "metadata": {},
   "source": [
    "**Example 2**: Solve the given tasks with a for loop.\n",
    "\n",
    "1. Print out the string \"Mines\" with a for loop.\n",
    " \n",
    "2. Print out the sum of every number in the following array: [1, 2, 3, 4, 5, 6]\n",
    "\n",
    "3. Given two arrays, print out a third array with the overlapping elements. (union)\n",
    "\n",
    "Array One: [1, 2, 3, 4]\n",
    "\n",
    "Array Two: [3, 4, 5]"
   ]
  },
  {
   "cell_type": "code",
   "execution_count": 4,
   "id": "a2f1a5f5",
   "metadata": {},
   "outputs": [
    {
     "name": "stdout",
     "output_type": "stream",
     "text": [
      "M\n",
      "i\n",
      "n\n",
      "e\n",
      "s\n",
      "21\n",
      "[3, 4]\n"
     ]
    }
   ],
   "source": [
    "for char in \"Mines\":\n",
    "    print(char)\n",
    "    \n",
    "nums = [1, 2, 3, 4, 5, 6]\n",
    "sumArray = 0\n",
    "for i in range(len(nums)):\n",
    "    sumArray += nums[i]\n",
    "print(sumArray)\n",
    "\n",
    "firstArray = [1, 2, 3, 4]\n",
    "secondArray = [3, 4, 5]\n",
    "thirdArray = []\n",
    "for num in firstArray:\n",
    "    if num in secondArray:\n",
    "        thirdArray.append(num)\n",
    "print(thirdArray)"
   ]
  },
  {
   "cell_type": "markdown",
   "id": "f1a915a9",
   "metadata": {},
   "source": [
    "**Example 3** (FizzBuzz): Write a program that prints numbers 1 to 100. \n",
    "\n",
    "If the number is divisible by 3, print \"Fizz\" instead of the number.\n",
    "\n",
    "If the number is divisible by 5, print \"Buzz\" instead of the number.\n",
    "\n",
    "If the number is divisible by 3 and 5, print \"FizzBuzz\" instead of the number."
   ]
  },
  {
   "cell_type": "code",
   "execution_count": 7,
   "id": "0ba981e3",
   "metadata": {},
   "outputs": [
    {
     "name": "stdout",
     "output_type": "stream",
     "text": [
      "1\n",
      "2\n",
      "Fizz\n",
      "4\n",
      "Buzz\n",
      "Fizz\n",
      "7\n",
      "8\n",
      "Fizz\n",
      "Buzz\n",
      "11\n",
      "Fizz\n",
      "13\n",
      "14\n",
      "FizzBuzz\n",
      "16\n",
      "17\n",
      "Fizz\n",
      "19\n",
      "Buzz\n",
      "Fizz\n",
      "22\n",
      "23\n",
      "Fizz\n",
      "Buzz\n",
      "26\n",
      "Fizz\n",
      "28\n",
      "29\n",
      "FizzBuzz\n",
      "31\n",
      "32\n",
      "Fizz\n",
      "34\n",
      "Buzz\n",
      "Fizz\n",
      "37\n",
      "38\n",
      "Fizz\n",
      "Buzz\n",
      "41\n",
      "Fizz\n",
      "43\n",
      "44\n",
      "FizzBuzz\n",
      "46\n",
      "47\n",
      "Fizz\n",
      "49\n",
      "Buzz\n",
      "Fizz\n",
      "52\n",
      "53\n",
      "Fizz\n",
      "Buzz\n",
      "56\n",
      "Fizz\n",
      "58\n",
      "59\n",
      "FizzBuzz\n",
      "61\n",
      "62\n",
      "Fizz\n",
      "64\n",
      "Buzz\n",
      "Fizz\n",
      "67\n",
      "68\n",
      "Fizz\n",
      "Buzz\n",
      "71\n",
      "Fizz\n",
      "73\n",
      "74\n",
      "FizzBuzz\n",
      "76\n",
      "77\n",
      "Fizz\n",
      "79\n",
      "Buzz\n",
      "Fizz\n",
      "82\n",
      "83\n",
      "Fizz\n",
      "Buzz\n",
      "86\n",
      "Fizz\n",
      "88\n",
      "89\n",
      "FizzBuzz\n",
      "91\n",
      "92\n",
      "Fizz\n",
      "94\n",
      "Buzz\n",
      "Fizz\n",
      "97\n",
      "98\n",
      "Fizz\n",
      "Buzz\n"
     ]
    }
   ],
   "source": [
    "for i in range(1, 101):\n",
    "    if i % 3 == 0 and i % 5 == 0:\n",
    "        print(\"FizzBuzz\")\n",
    "    elif i % 3 == 0:\n",
    "        print(\"Fizz\")\n",
    "    elif i % 5 == 0:\n",
    "        print(\"Buzz\")\n",
    "    else:\n",
    "        print(i)"
   ]
  },
  {
   "cell_type": "code",
   "execution_count": null,
   "id": "27915662",
   "metadata": {},
   "outputs": [],
   "source": []
  }
 ],
 "metadata": {
  "kernelspec": {
   "display_name": "Python 3 (ipykernel)",
   "language": "python",
   "name": "python3"
  },
  "language_info": {
   "codemirror_mode": {
    "name": "ipython",
    "version": 3
   },
   "file_extension": ".py",
   "mimetype": "text/x-python",
   "name": "python",
   "nbconvert_exporter": "python",
   "pygments_lexer": "ipython3",
   "version": "3.8.10"
  }
 },
 "nbformat": 4,
 "nbformat_minor": 5
}
