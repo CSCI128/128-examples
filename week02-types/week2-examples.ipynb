{
 "cells": [
  {
   "cell_type": "markdown",
   "id": "d22cfa48",
   "metadata": {},
   "source": [
    "**Topics Covered**: Strings, lists\n",
    "\n",
    "**Keywords**: String, array, list, concatenate, fstrings, index, string methods, split "
   ]
  },
  {
   "cell_type": "markdown",
   "id": "b76268e5",
   "metadata": {},
   "source": [
    "**Example 1**: Print out `MINES` using an list.\n",
    "\n",
    "Next, using string concatenation, print out `Colorado School of Mines`.\n",
    "\n",
    "Finally, using fstrings, print out `Colorado School of Mines`, using variables for separate parts of the string."
   ]
  },
  {
   "cell_type": "code",
   "execution_count": null,
   "id": "246c52ce",
   "metadata": {},
   "outputs": [],
   "source": []
  },
  {
   "cell_type": "markdown",
   "id": "a848994e",
   "metadata": {},
   "source": [
    "**Example 2**: Given a list, print the sum of integers at two user-inputted indices. Assume that the user **will not** enter 0 for the first index."
   ]
  },
  {
   "cell_type": "code",
   "execution_count": null,
   "id": "78db13a7",
   "metadata": {},
   "outputs": [],
   "source": []
  },
  {
   "cell_type": "markdown",
   "id": "30055b83",
   "metadata": {},
   "source": [
    "**Example 3**: Given the following string, print `pretty cool data` using string methods."
   ]
  },
  {
   "cell_type": "code",
   "execution_count": null,
   "id": "509e31bc",
   "metadata": {},
   "outputs": [],
   "source": [
    "data = \"some data,useless data,pretty cool data\""
   ]
  }
 ],
 "metadata": {
  "kernelspec": {
   "display_name": "Python 3 (ipykernel)",
   "language": "python",
   "name": "python3"
  },
  "language_info": {
   "codemirror_mode": {
    "name": "ipython",
    "version": 3
   },
   "file_extension": ".py",
   "mimetype": "text/x-python",
   "name": "python",
   "nbconvert_exporter": "python",
   "pygments_lexer": "ipython3",
   "version": "3.8.10"
  }
 },
 "nbformat": 4,
 "nbformat_minor": 5
}
