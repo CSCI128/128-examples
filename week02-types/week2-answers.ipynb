{
 "cells": [
  {
   "cell_type": "markdown",
   "id": "64fb0fb7",
   "metadata": {},
   "source": [
    "**Topics Covered**: Strings, lists\n",
    "\n",
    "**Keywords**: String, list (array), concatenate, fstrings, index, string methods, split "
   ]
  },
  {
   "cell_type": "markdown",
   "id": "b76268e5",
   "metadata": {},
   "source": [
    "**Example 1**: Print out `MINES` using an list.\n",
    "\n",
    "Next, using string concatenation, print out `Colorado School of Mines`.\n",
    "\n",
    "Finally, using fstrings, print out `Colorado School of Mines`, using variables for separate parts of the string."
   ]
  },
  {
   "cell_type": "code",
   "execution_count": null,
   "id": "246c52ce",
   "metadata": {},
   "outputs": [],
   "source": [
    "# we would never do this, but essentially, strings are lists of chars!\n",
    "name = ['M', 'I', 'N', 'E', 'S'] \n",
    "print(name[0] + name[1] + name[2] + name[3] + name[4])\n",
    "\n",
    "state = \"Colorado\"\n",
    "title = \" School of \"\n",
    "school_name = \"Mines\"\n",
    "\n",
    "full_name = state + title + school_name\n",
    "print(full_name)\n",
    "\n",
    "print(f\"{state}{title}{school_name}\")"
   ]
  },
  {
   "cell_type": "markdown",
   "id": "a848994e",
   "metadata": {},
   "source": [
    "**Example 2**: Given a list, print the sum of integers at two user-inputted indices. Assume that the user **will not** enter 0 for the first index. What happens if you go out of bounds?"
   ]
  },
  {
   "cell_type": "code",
   "execution_count": null,
   "id": "68ac9b64",
   "metadata": {},
   "outputs": [],
   "source": [
    "given_list = [3, 1, 4, 1, 5, 9, 2, 6, 5, 3, 5, 8, 9]\n",
    "first_index = int(input(\"Please enter the first index: \"))\n",
    "second_index = int(input(\"Please enter the second index: \"))\n",
    "\n",
    "user_sum = given_list[first_index - 1] + given_list[second_index - 1]\n",
    "print(user_sum)"
   ]
  },
  {
   "cell_type": "markdown",
   "id": "30055b83",
   "metadata": {},
   "source": [
    "**Example 3**: Given the following string, print `pretty cool data` using string methods."
   ]
  },
  {
   "cell_type": "code",
   "execution_count": null,
   "id": "8a586fa9",
   "metadata": {},
   "outputs": [],
   "source": [
    "data = \"some data,useless data,pretty cool data\"\n",
    "\n",
    "print(data.split(\",\")[2])"
   ]
  },
  {
   "cell_type": "code",
   "execution_count": null,
   "id": "75bdb437",
   "metadata": {},
   "outputs": [],
   "source": []
  }
 ],
 "metadata": {
  "kernelspec": {
   "display_name": "Python 3",
   "language": "python",
   "name": "python3"
  },
  "language_info": {
   "codemirror_mode": {
    "name": "ipython",
    "version": 3
   },
   "file_extension": ".py",
   "mimetype": "text/x-python",
   "name": "python",
   "nbconvert_exporter": "python",
   "pygments_lexer": "ipython3",
   "version": "3.9.1"
  }
 },
 "nbformat": 4,
 "nbformat_minor": 5
}
