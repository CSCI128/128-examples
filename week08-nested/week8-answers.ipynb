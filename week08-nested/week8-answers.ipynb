{
 "cells": [
  {
   "cell_type": "markdown",
   "id": "629847db",
   "metadata": {},
   "source": [
    "**Topics Covered**: Nested/complex logic\n",
    "\n",
    "**Keywords**: Nested loops, nested lists, lists, contains, list methods"
   ]
  },
  {
   "cell_type": "markdown",
   "id": "22060fdd",
   "metadata": {},
   "source": [
    "**Example 1**: Write a program which prints out three verses of the classic Batman theme song, using nested loops.\n",
    "\n",
    "`na na na na na na na na na na na na na`\n",
    "\n",
    "`Batman!`\n",
    "\n",
    "That's thirteen `na`s!"
   ]
  },
  {
   "cell_type": "code",
   "execution_count": 1,
   "id": "3d67eec6",
   "metadata": {
    "scrolled": true
   },
   "outputs": [
    {
     "name": "stdout",
     "output_type": "stream",
     "text": [
      "na na na na na na na na na na na na na Batman!\n",
      "na na na na na na na na na na na na na Batman!\n",
      "na na na na na na na na na na na na na Batman!\n"
     ]
    }
   ],
   "source": [
    "for i in range(0, 3):\n",
    "    for j in range(0, 13):\n",
    "        print(\"na \", end='')\n",
    "    print(\"Batman!\")"
   ]
  },
  {
   "cell_type": "markdown",
   "id": "4493fdb7",
   "metadata": {},
   "source": [
    "**Example 2**: "
   ]
  },
  {
   "cell_type": "code",
   "execution_count": null,
   "id": "d31321a7",
   "metadata": {},
   "outputs": [],
   "source": [
    "\n"
   ]
  },
  {
   "cell_type": "markdown",
   "id": "a9fbd31c",
   "metadata": {},
   "source": [
    "**Example 3**: The following nested list stores songs, each of which has a name, artist, album, and boolean representing whether or not the song is explicit. Print out all attributes as follows:\n",
    "\n",
    "`Name`\n",
    "\n",
    "`[E] Artist`\n",
    "\n",
    "`(Album)`"
   ]
  },
  {
   "cell_type": "code",
   "execution_count": 2,
   "id": "9c48d1a7",
   "metadata": {},
   "outputs": [
    {
     "name": "stdout",
     "output_type": "stream",
     "text": [
      "Karma\n",
      "[E] Taylor Swift\n",
      "(Midnights)\n",
      "\n",
      "Levitating\n",
      "Dua Lipa\n",
      "(Future Nostalgia)\n",
      "\n",
      "Blinding Lights\n",
      "The Weeknd\n",
      "(After Hours)\n",
      "\n"
     ]
    }
   ],
   "source": [
    "songs = [\n",
    "    [\"Karma\", \"Taylor Swift\", \"Midnights\", True],\n",
    "    [\"Levitating\", \"Dua Lipa\", \"Future Nostalgia\", False], \n",
    "    [\"Blinding Lights\", \"The Weeknd\", \"After Hours\", False]\n",
    "]\n",
    "\n",
    "for song in songs:\n",
    "    title = song[0]\n",
    "    artist = song[1]\n",
    "    album = song[2]\n",
    "    explicit = song[3]\n",
    "    \n",
    "    print(f\"{title}\")\n",
    "    if explicit:\n",
    "        print(f\"[E] {artist}\")        \n",
    "    else:\n",
    "        print(f\"{artist}\")\n",
    "    print(f\"({album})\")\n",
    "    print()\n",
    "\n",
    "# Note: \"for in\" loops may not always be practical with lists, but sometimes help, like in this case.\n",
    "# Note: Objects & OOP exist to make this type of thing easier!"
   ]
  },
  {
   "cell_type": "code",
   "execution_count": null,
   "id": "684f7091",
   "metadata": {},
   "outputs": [],
   "source": []
  }
 ],
 "metadata": {
  "kernelspec": {
   "display_name": "Python 3 (ipykernel)",
   "language": "python",
   "name": "python3"
  },
  "language_info": {
   "codemirror_mode": {
    "name": "ipython",
    "version": 3
   },
   "file_extension": ".py",
   "mimetype": "text/x-python",
   "name": "python",
   "nbconvert_exporter": "python",
   "pygments_lexer": "ipython3",
   "version": "3.8.10"
  }
 },
 "nbformat": 4,
 "nbformat_minor": 5
}
