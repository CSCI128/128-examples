{
 "cells": [
  {
   "cell_type": "markdown",
   "id": "629847db",
   "metadata": {},
   "source": [
    "**Topics Covered**: Nested/complex logic\n",
    "\n",
    "**Keywords**: Nested loops, nested lists, lists, contains, list methods"
   ]
  },
  {
   "cell_type": "markdown",
   "id": "22060fdd",
   "metadata": {},
   "source": [
    "**Example 1**: Check if user input contains \"banana\"; if so, don't print the message and send the user an error message. Otherwise, print the message.\n",
    "\n",
    "*Extension Question*: When is this useful in the real world?"
   ]
  },
  {
   "cell_type": "code",
   "execution_count": null,
   "id": "3d67eec6",
   "metadata": {},
   "outputs": [],
   "source": [
    "user_input = input(\"Please enter a string: \")\n",
    "\n",
    "if 'banana' in user_input:\n",
    "    print(\"You are not allowed to say that!\")\n",
    "else:\n",
    "    print(user_input)"
   ]
  },
  {
   "cell_type": "markdown",
   "id": "4493fdb7",
   "metadata": {},
   "source": [
    "**Example 2**: "
   ]
  },
  {
   "cell_type": "code",
   "execution_count": null,
   "id": "d31321a7",
   "metadata": {},
   "outputs": [],
   "source": []
  },
  {
   "cell_type": "markdown",
   "id": "a9fbd31c",
   "metadata": {},
   "source": [
    "**Example 3**: What does the following code output?"
   ]
  },
  {
   "cell_type": "code",
   "execution_count": null,
   "id": "9c48d1a7",
   "metadata": {},
   "outputs": [],
   "source": [
    "x = 5\n",
    "y = 3\n",
    "x = y\n",
    "print(y)\n",
    "y = y + 4\n",
    "print(x)\n",
    "z = 7\n",
    "print(y == z)\n",
    "print(y is z)"
   ]
  }
 ],
 "metadata": {
  "kernelspec": {
   "display_name": "Python 3 (ipykernel)",
   "language": "python",
   "name": "python3"
  },
  "language_info": {
   "codemirror_mode": {
    "name": "ipython",
    "version": 3
   },
   "file_extension": ".py",
   "mimetype": "text/x-python",
   "name": "python",
   "nbconvert_exporter": "python",
   "pygments_lexer": "ipython3",
   "version": "3.8.10"
  }
 },
 "nbformat": 4,
 "nbformat_minor": 5
}
