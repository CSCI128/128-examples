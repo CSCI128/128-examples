{
 "cells": [
  {
   "cell_type": "markdown",
   "id": "88463dcc",
   "metadata": {},
   "source": [
    "**Topics Covered**: Nested/complex logic\n",
    "\n",
    "**Keywords**: Nested loops, nested lists, lists, list methods"
   ]
  },
  {
   "cell_type": "markdown",
   "id": "e4926c06",
   "metadata": {},
   "source": [
    "**Example 1**: Write a program which prints out three verses of the classic Batman theme song, using nested loops.\n",
    "\n",
    "`na na na na na na na na na na na na na`\n",
    "\n",
    "`Batman!`\n",
    "\n",
    "That's thirteen `na`s!"
   ]
  },
  {
   "cell_type": "code",
   "execution_count": null,
   "id": "328702ea",
   "metadata": {},
   "outputs": [],
   "source": []
  },
  {
   "cell_type": "markdown",
   "id": "5957f610",
   "metadata": {},
   "source": [
    "**Example 2**: Trace the following code. What does it print out?"
   ]
  },
  {
   "cell_type": "code",
   "execution_count": null,
   "id": "94942842",
   "metadata": {},
   "outputs": [],
   "source": [
    "data = [ 'c', [3.5, \"Hello\", True], [\"messy\", [\"this is\", [\"data\"]]], [False, -1.03, \"Mines\"], [\"Test\", True, 9648], \"Golden\"]\n",
    "\n",
    "if data[1][2]:\n",
    "    print(f\"{data[2][1][0]} {data[2][0]} {data[2][1][1][0]}\")\n",
    "\n",
    "print(f\"{data[0]} {data[3][1]}\")\n",
    "\n",
    "print(data[3][2])"
   ]
  },
  {
   "cell_type": "markdown",
   "id": "508f9457",
   "metadata": {},
   "source": [
    "**Example 3**: The following nested list stores songs, each of which has a name, artist, album, and boolean representing whether or not the song is explicit. Print out all attributes as follows:\n",
    "\n",
    "`Name`\n",
    "\n",
    "`[E] Artist`\n",
    "\n",
    "`(Album)`"
   ]
  },
  {
   "cell_type": "code",
   "execution_count": null,
   "id": "9a73f76c",
   "metadata": {},
   "outputs": [],
   "source": [
    "songs = [\n",
    "    [\"Karma\", \"Taylor Swift\", \"Midnights\", True],\n",
    "    [\"Levitating\", \"Dua Lipa\", \"Future Nostalgia\", False], \n",
    "    [\"Blinding Lights\", \"The Weeknd\", \"After Hours\", False]\n",
    "]\n"
   ]
  }
 ],
 "metadata": {
  "kernelspec": {
   "display_name": "Python 3 (ipykernel)",
   "language": "python",
   "name": "python3"
  },
  "language_info": {
   "codemirror_mode": {
    "name": "ipython",
    "version": 3
   },
   "file_extension": ".py",
   "mimetype": "text/x-python",
   "name": "python",
   "nbconvert_exporter": "python",
   "pygments_lexer": "ipython3",
   "version": "3.8.10"
  }
 },
 "nbformat": 4,
 "nbformat_minor": 5
}
