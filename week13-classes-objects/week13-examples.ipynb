{
 "cells": [
  {
   "cell_type": "markdown",
   "id": "0705329f",
   "metadata": {},
   "source": [
    "**Topics Covered**: Objects & Classes\n",
    "\n",
    "**Keywords**: Class, object, `__str__`, attributes, methods, instantiate, instance, constructor, object-oriented programming"
   ]
  },
  {
   "cell_type": "markdown",
   "id": "0dd35777",
   "metadata": {},
   "source": [
    "**Example 1**: Write a Student object with attributes `first_name`, `last_name`, `gpa`, and `major`. Ensure that the class has a `__str__` method."
   ]
  },
  {
   "cell_type": "code",
   "execution_count": null,
   "id": "7e8283a3",
   "metadata": {},
   "outputs": [],
   "source": [
    "# TODO implement your class\n",
    "        \n",
    "me = Student(\"Example\", \"Student\", 4.0, \"Computer Science\")\n",
    "print(me)"
   ]
  },
  {
   "cell_type": "markdown",
   "id": "96014203",
   "metadata": {},
   "source": [
    "**Example 2**: Write a Library class and a Book class given the following specifications:\n",
    "- Library should contain a list of `Book`s.\n",
    "- Library should have an `add_book` function which adds a new `Book` to the `Librarybe able to add new `Book`s.\n",
    "- Library should have a `print_books` function which prints out all `Book` titles and their availability status.\n",
    "- Book should have `title`, `author`, and `is_available` attributes.\n",
    "- Book should have a `check_out` function which sets it to be unavailable.\n",
    "- Book should have a `return_book` function which sets it to be available.\n",
    "- Book should have a `__str__` function which prints out the book's information as such: `{title} by {author}`\n",
    "\n",
    "The program test calls are provided. The output should be:\n",
    "\n",
    "```\n",
    "The Art of Computer Programming by Donald Knuth\n",
    "Library Books:\n",
    "The Art of Computer Programming [available: False]\n",
    "Library Books:\n",
    "The Art of Computer Programming [available: True]\n",
    "The Pragmatic Programmer [available: False]\n",
    "```"
   ]
  },
  {
   "cell_type": "code",
   "execution_count": null,
   "id": "b818e498",
   "metadata": {},
   "outputs": [],
   "source": [
    "# TODO implement your classes here\n",
    "\n",
    "# Tests - don't modify these! If you implement everything correctly, the output will match. :) \n",
    "library = Library()\n",
    "book1 = Book(\"The Art of Computer Programming\", \"Donald Knuth\", True)\n",
    "print(book1)\n",
    "\n",
    "library.add_book(book1)\n",
    "book1.check_out()\n",
    "\n",
    "library.print_books()\n",
    "\n",
    "book1.return_book()\n",
    "book2 = Book(\"The Pragmatic Programmer\", \"David Thomas\", False)\n",
    "library.add_book(book2)\n",
    "\n",
    "library.print_books()"
   ]
  }
 ],
 "metadata": {
  "kernelspec": {
   "display_name": "Python 3 (ipykernel)",
   "language": "python",
   "name": "python3"
  },
  "language_info": {
   "codemirror_mode": {
    "name": "ipython",
    "version": 3
   },
   "file_extension": ".py",
   "mimetype": "text/x-python",
   "name": "python",
   "nbconvert_exporter": "python",
   "pygments_lexer": "ipython3",
   "version": "3.8.10"
  }
 },
 "nbformat": 4,
 "nbformat_minor": 5
}
