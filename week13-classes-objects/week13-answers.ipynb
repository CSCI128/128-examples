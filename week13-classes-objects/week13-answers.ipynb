{
 "cells": [
  {
   "cell_type": "markdown",
   "id": "0dd35777",
   "metadata": {},
   "source": [
    "**Example 1**: Write a Student object with attributes `first_name`, `last_name`, `gpa`, and `major`. Ensure that the class has a `__str__` method."
   ]
  },
  {
   "cell_type": "code",
   "execution_count": 2,
   "id": "7e8283a3",
   "metadata": {},
   "outputs": [
    {
     "name": "stdout",
     "output_type": "stream",
     "text": [
      "Example Student\n",
      "Computer Science | GPA: 4.0\n"
     ]
    }
   ],
   "source": [
    "class Student:\n",
    "    \"\"\"Class representing a Student and their data\"\"\"\n",
    "    \n",
    "    def __init__(self, first_name, last_name, gpa, major):\n",
    "        self.first_name = first_name\n",
    "        self.last_name = last_name\n",
    "        self.gpa = gpa\n",
    "        self.major = major\n",
    "    \n",
    "    def __str__(self):\n",
    "        # COULD USE: return self.first_name + \" \" + self.last_name + \"\\n\" + self.major + \" | GPA: \" + str(self.gpa)\n",
    "        return f\"{self.first_name} {self.last_name}\\n{self.major} | GPA: {self.gpa}\"\n",
    "        \n",
    "student = Student(\"Example\", \"Student\", 4.0, \"Computer Science\")\n",
    "print(student)"
   ]
  },
  {
   "cell_type": "markdown",
   "id": "96014203",
   "metadata": {},
   "source": [
    "**Example 2**: Write a Library class and a Book class given the following specifications:\n",
    "- Library should contain a list of `Book`s.\n",
    "- Library should have an `add_book` function which adds a new `Book` to the `Library`.\n",
    "- Library should have a `print_books` function which prints out all `Book` titles and their availability status.\n",
    "- Book should have `title`, `author`, and `is_available` attributes.\n",
    "- Book should have a `check_out` function which sets it to be unavailable.\n",
    "- Book should have a `return_book` function which sets it to be available.\n",
    "- Book should have a `__str__` function which prints out the book's information as such: `{title} by {author}`\n",
    "\n",
    "The program test calls are provided. The output should be:\n",
    "\n",
    "```\n",
    "The Art of Computer Programming by Donald Knuth\n",
    "Library Books:\n",
    "The Art of Computer Programming [available: False]\n",
    "Library Books:\n",
    "The Art of Computer Programming [available: True]\n",
    "The Pragmatic Programmer [available: False]\n",
    "```"
   ]
  },
  {
   "cell_type": "code",
   "execution_count": 28,
   "id": "b818e498",
   "metadata": {},
   "outputs": [
    {
     "name": "stdout",
     "output_type": "stream",
     "text": [
      "The Art of Computer Programming by Donald Knuth\n",
      "Library Books:\n",
      "The Art of Computer Programming [available: False]\n",
      "Library Books:\n",
      "The Art of Computer Programming [available: True]\n",
      "The Pragmatic Programmer [available: False]\n"
     ]
    }
   ],
   "source": [
    "class Library:\n",
    "    \"\"\"A class representing a Library full of Books\"\"\"\n",
    "    \n",
    "    def __init__(self):\n",
    "        self.books = []\n",
    "    \n",
    "    def add_book(self, book):\n",
    "        self.books.append(book)\n",
    "        \n",
    "    def print_books(self):\n",
    "        print(\"Library Books:\")\n",
    "        for book in self.books:\n",
    "            print(book.title, \"[available: \" + str(book.is_available) + \"]\")\n",
    "    \n",
    "class Book:\n",
    "    \"\"\"A class representing a Book\"\"\"\n",
    "    \n",
    "    def __init__(self, title, author, is_available):\n",
    "        self.title = title\n",
    "        self.author = author\n",
    "        self.is_available = is_available\n",
    "\n",
    "    def check_out(self):\n",
    "        self.is_available = False\n",
    "        \n",
    "    def return_book(self):\n",
    "        self.is_available = True\n",
    "        \n",
    "    def __str__(self):\n",
    "        return self.title + \" by \" + self.author\n",
    "        \n",
    "library = Library()\n",
    "book1 = Book(\"The Art of Computer Programming\", \"Donald Knuth\", True)\n",
    "print(book1)\n",
    "\n",
    "library.add_book(book1)\n",
    "book1.check_out()\n",
    "\n",
    "library.print_books()\n",
    "\n",
    "book1.return_book()\n",
    "book2 = Book(\"The Pragmatic Programmer\", \"David Thomas\", False)\n",
    "library.add_book(book2)\n",
    "\n",
    "library.print_books()"
   ]
  }
 ],
 "metadata": {
  "kernelspec": {
   "display_name": "Python 3 (ipykernel)",
   "language": "python",
   "name": "python3"
  },
  "language_info": {
   "codemirror_mode": {
    "name": "ipython",
    "version": 3
   },
   "file_extension": ".py",
   "mimetype": "text/x-python",
   "name": "python",
   "nbconvert_exporter": "python",
   "pygments_lexer": "ipython3",
   "version": "3.8.10"
  }
 },
 "nbformat": 4,
 "nbformat_minor": 5
}
