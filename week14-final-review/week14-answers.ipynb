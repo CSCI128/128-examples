{
 "cells": [
  {
   "cell_type": "markdown",
   "id": "8b5629fa",
   "metadata": {},
   "source": [
    "**Example 1**: Check for duplicates in the following two given lists. Create a new list with all of the unique elements. Print out the result.\n",
    "\n",
    "Challenge: Sort the final list alphabetically before printing it out."
   ]
  },
  {
   "cell_type": "code",
   "execution_count": null,
   "id": "9ecc6a62",
   "metadata": {},
   "outputs": [],
   "source": [
    "list_one = [\"United States\", \"Mexico\", \"Canada\", \"United Kingdom\"]\n",
    "list_two = [\"Australia\", \"France\", \"United States\", \"Argentina\", \"Germany\", \"United Kingdom\"]\n",
    "new_list = []\n",
    "\n",
    "# Beginner Solution\n",
    "for country in list_one:\n",
    "    new_list.append(country)\n",
    "    \n",
    "for country in list_two:\n",
    "    if country not in new_list:\n",
    "        new_list.append(country)\n",
    "    \n",
    "new_list.sort()\n",
    "print(new_list)\n",
    "\n",
    "# Advanced Solution\n",
    "new_list = list(set(list_one + list_two))\n",
    "new_list.sort()\n",
    "print(new_list)"
   ]
  }
 ],
 "metadata": {
  "kernelspec": {
   "display_name": "Python 3 (ipykernel)",
   "language": "python",
   "name": "python3"
  },
  "language_info": {
   "codemirror_mode": {
    "name": "ipython",
    "version": 3
   },
   "file_extension": ".py",
   "mimetype": "text/x-python",
   "name": "python",
   "nbconvert_exporter": "python",
   "pygments_lexer": "ipython3",
   "version": "3.8.10"
  }
 },
 "nbformat": 4,
 "nbformat_minor": 5
}
