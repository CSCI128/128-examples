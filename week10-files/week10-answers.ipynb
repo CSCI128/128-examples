{
 "cells": [
  {
   "cell_type": "markdown",
   "id": "2f1b08cc",
   "metadata": {},
   "source": [
    "**Topics Covered**: Files\n",
    "\n",
    "**Keywords**: File, open, lines, close, write, readline"
   ]
  },
  {
   "cell_type": "markdown",
   "id": "e5bd7da0",
   "metadata": {},
   "source": [
    "**Example 1**: Open `fightsong.txt` and print out all lines."
   ]
  },
  {
   "cell_type": "code",
   "execution_count": 1,
   "id": "4c705982",
   "metadata": {},
   "outputs": [
    {
     "name": "stdout",
     "output_type": "stream",
     "text": [
      "I wish I had a barrel of rum and sugar three hundred pounds,\n",
      "\n",
      "The college bell to mix it in and a clapper to stir it ‘round.\n",
      "\n",
      "Like every honest fellow, I take my whiskey clear,\n",
      "\n",
      "I’m a ramblin’ wreck from Golden Tech, a helluva engineer.\n",
      "\n",
      "A helluva, helluva, helluva, helluva, helluva engineer,\n",
      "\n",
      "A helluva, helluva, helluva, helluva, helluva engineer,\n",
      "\n",
      "Like every honest fellow, I take my whiskey clear,\n",
      "\n",
      "I’m a ramblin’ wreck from Golden Tech, a helluva engineer.\n",
      "\n",
      "Hail, hail, the gang’s all here.\n",
      "\n",
      "What the hell do we care as long as we get our share.\n",
      "\n",
      "Hail, hail, the gang’s all here.\n",
      "\n",
      "M-I-N-E-S\n",
      "\n",
      "What the hell do we care now?\n"
     ]
    }
   ],
   "source": [
    "with open('fightsong.txt') as file:\n",
    "    for line in file:\n",
    "        print(line)\n",
    "    file.close()"
   ]
  },
  {
   "cell_type": "markdown",
   "id": "7cce1d42",
   "metadata": {},
   "source": [
    "**Background Info**: CSV, or comma-separated values, is one of the most common file formats for data. As the name implies, all values in a file are comma-separated, such as: `GOOGL,90.47,2/28/23`\n",
    "\n",
    "When dealing with this, we know our data is formatted in some way, such as `Company ID,Share Price,Date`. Spreadsheets are essentially .csv data! (.xslx are spreadsheet files which contain more data related to the workspace)\n",
    "\n",
    "**Example 2**: Write a program that collects data on student studying habits and writes a file called `students.csv` with the results.\n",
    "\n",
    "Results should be in the format: `Student Name,Credit Hours,Hours Studied,Favorite Study Spot`"
   ]
  },
  {
   "cell_type": "code",
   "execution_count": 1,
   "id": "d2c2e83c",
   "metadata": {},
   "outputs": [
    {
     "name": "stdout",
     "output_type": "stream",
     "text": [
      "What is your name? Ethan\n",
      "How many credit hours are you taking? 16.5\n",
      "How many hours do you study each day? 5\n",
      "What is your favorite study spot? Library\n"
     ]
    }
   ],
   "source": [
    "name = input(\"What is your name? \")\n",
    "credits = input(\"How many credit hours are you taking? \")\n",
    "hours = input(\"How many hours do you study each day? \")\n",
    "location = input(\"What is your favorite study spot? \")\n",
    "\n",
    "outfile = open(\"students.csv\", \"a\")\n",
    "outfile.write(f\"{name},{credits},{hours},{location}\\n\")\n",
    "outfile.close()\n",
    "\n",
    "# there's actually a csv writer built into Python to make this easier!"
   ]
  },
  {
   "cell_type": "markdown",
   "id": "8b2eff1c",
   "metadata": {},
   "source": [
    "**Example 3**: In programming competitions, input is often given file format which tells you 1) the number of test cases, $N$, to follow, and 2) each test case; such as:\n",
    "\n",
    "`sample.in`\n",
    "\n",
    "    3\n",
    "    1\n",
    "    2\n",
    "    3\n",
    "\n",
    "\n",
    "`sample.out`\n",
    "\n",
    "    6\n",
    "\n",
    "Given the test case in `sample.in`, write a program that reads in that file and adds all $N$ numbers and prints them out.\n",
    "\n",
    "*Extension Question:* Why is this useful?"
   ]
  },
  {
   "cell_type": "code",
   "execution_count": 7,
   "id": "f6603960",
   "metadata": {},
   "outputs": [
    {
     "name": "stdout",
     "output_type": "stream",
     "text": [
      "6\n"
     ]
    }
   ],
   "source": [
    "file = open('sample.in')\n",
    "testCases = int(file.readline())\n",
    "\n",
    "total = 0\n",
    "\n",
    "for i in range(0, testCases):\n",
    "    total += int(file.readline())\n",
    "\n",
    "print(total)\n",
    "\n",
    "file.close()\n",
    "\n",
    "# Answer to Extension Question: This is useful because sometimes with \n",
    "# files we won't know when we've reached the EOF, so knowing the bounds\n",
    "# of our data is really helpful (especially in competition environments)"
   ]
  },
  {
   "cell_type": "code",
   "execution_count": null,
   "id": "209635c5",
   "metadata": {},
   "outputs": [],
   "source": []
  }
 ],
 "metadata": {
  "kernelspec": {
   "display_name": "Python 3",
   "language": "python",
   "name": "python3"
  },
  "language_info": {
   "codemirror_mode": {
    "name": "ipython",
    "version": 3
   },
   "file_extension": ".py",
   "mimetype": "text/x-python",
   "name": "python",
   "nbconvert_exporter": "python",
   "pygments_lexer": "ipython3",
   "version": "3.9.1"
  }
 },
 "nbformat": 4,
 "nbformat_minor": 5
}
