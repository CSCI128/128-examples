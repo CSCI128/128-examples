{
 "cells": [
  {
   "cell_type": "markdown",
   "id": "e5bd7da0",
   "metadata": {},
   "source": [
    "**Example 1**: Open `fightsong.txt` and print out all lines."
   ]
  },
  {
   "cell_type": "code",
   "execution_count": null,
   "id": "4c705982",
   "metadata": {},
   "outputs": [],
   "source": []
  },
  {
   "cell_type": "markdown",
   "id": "7cce1d42",
   "metadata": {},
   "source": [
    "**Background Info**: CSV, or comma-separated values, is one of the most common file formats for data. As the name implies, all values in a file are comma-separated, such as: `GOOGL,90.47,2/28/23`\n",
    "\n",
    "When dealing with this, we know our data is formatted in some way, such as `Company ID,Share Price,Date`. Spreadsheets are essentially .csv data! (.xslx are spreadsheet files which contain more data related to the workspace)\n",
    "\n",
    "**Example 2**: Write a program that collects data on student studying habits writes a file called `students.csv` with the results.\n",
    "\n",
    "Results should be in the format: `Student Name,Credit Hours,Hours Studied,Favorite Study Spot`"
   ]
  },
  {
   "cell_type": "code",
   "execution_count": null,
   "id": "d2c2e83c",
   "metadata": {},
   "outputs": [],
   "source": []
  },
  {
   "cell_type": "markdown",
   "id": "8b2eff1c",
   "metadata": {},
   "source": [
    "**Example 3**: In programming competitions, input is often given file format which tells you 1) the number of test cases, $N$, to follow, and 2) each test case; such as:\n",
    "\n",
    "`sample.in`\n",
    "\n",
    "    3\n",
    "    1\n",
    "    2\n",
    "    3\n",
    "\n",
    "\n",
    "`sample.out`\n",
    "\n",
    "    6\n",
    "\n",
    "Given the test case in `sample.in`, write a program that reads in that file and adds all $N$ numbers and prints them out.\n",
    "\n",
    "*Extension Question:* Why is this useful?"
   ]
  },
  {
   "cell_type": "code",
   "execution_count": null,
   "id": "209635c5",
   "metadata": {},
   "outputs": [],
   "source": []
  }
 ],
 "metadata": {
  "kernelspec": {
   "display_name": "Python 3 (ipykernel)",
   "language": "python",
   "name": "python3"
  },
  "language_info": {
   "codemirror_mode": {
    "name": "ipython",
    "version": 3
   },
   "file_extension": ".py",
   "mimetype": "text/x-python",
   "name": "python",
   "nbconvert_exporter": "python",
   "pygments_lexer": "ipython3",
   "version": "3.8.10"
  }
 },
 "nbformat": 4,
 "nbformat_minor": 5
}
