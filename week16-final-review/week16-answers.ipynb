{
 "cells": [
  {
   "cell_type": "markdown",
   "id": "6184e448",
   "metadata": {},
   "source": [
    "**Question 1**: True or false: We can call a function inside of another function without it being recursive."
   ]
  },
  {
   "cell_type": "markdown",
   "id": "030d3e08",
   "metadata": {},
   "source": [
    "True! As long as the name of the function we're calling doesn't match the name of the function that we are \"inside of,\" it's not a recursive call."
   ]
  },
  {
   "cell_type": "markdown",
   "id": "8d9b1259",
   "metadata": {},
   "source": [
    "**Question 2**: True or false: Classes and objects are the same thing."
   ]
  },
  {
   "cell_type": "markdown",
   "id": "fc0733a7",
   "metadata": {},
   "source": [
    "False! Although they are closely associated with each other, a class is like the \"structure\" of what we expect, and an object is an instance of a class."
   ]
  },
  {
   "cell_type": "markdown",
   "id": "6f390361",
   "metadata": {},
   "source": [
    "**Question 3**: True or false: With nested loops, for every iteration of the inner loop, the outer loop runs completely."
   ]
  },
  {
   "cell_type": "markdown",
   "id": "a1494682",
   "metadata": {},
   "source": [
    "False! This is backwards. With nested loops, for every iteration of the outer loop, the inner loop runs completely."
   ]
  },
  {
   "cell_type": "markdown",
   "id": "283b4a78",
   "metadata": {},
   "source": [
    "**Question 4**: How do we open files? What are the valid file modes?"
   ]
  },
  {
   "cell_type": "markdown",
   "id": "5f97a9ea",
   "metadata": {},
   "source": [
    "We can use the open() function and the \"with\" keyword. We can read/write/append to files."
   ]
  },
  {
   "cell_type": "markdown",
   "id": "391d64e6",
   "metadata": {},
   "source": [
    "**Question 5**: What is a constructor? When is the constructor of a class called?"
   ]
  },
  {
   "cell_type": "markdown",
   "id": "d4cf8936",
   "metadata": {},
   "source": [
    "A constructor is the `__init__` function in a class, and is called when the an instance of the class is created."
   ]
  },
  {
   "cell_type": "markdown",
   "id": "8b5629fa",
   "metadata": {},
   "source": [
    "**Example 1**: Check for duplicates in the following two given lists. Create a new list with all of the unique elements. Print out the result.\n",
    "\n",
    "Challenge: Sort the final list alphabetically before printing it out."
   ]
  },
  {
   "cell_type": "code",
   "execution_count": null,
   "id": "9ecc6a62",
   "metadata": {},
   "outputs": [],
   "source": [
    "list_one = [\"United States\", \"Mexico\", \"Canada\", \"United Kingdom\"]\n",
    "list_two = [\"Australia\", \"France\", \"United States\", \"Argentina\", \"Germany\", \"United Kingdom\"]\n",
    "new_list = []\n",
    "\n",
    "# Beginner Solution\n",
    "for country in list_one:\n",
    "    new_list.append(country)\n",
    "    \n",
    "for country in list_two:\n",
    "    if country not in new_list:\n",
    "        new_list.append(country)\n",
    "    \n",
    "new_list.sort()\n",
    "print(new_list)\n",
    "\n",
    "# Advanced Solution\n",
    "new_list = list(set(list_one + list_two))\n",
    "new_list.sort()\n",
    "print(new_list)"
   ]
  },
  {
   "cell_type": "markdown",
   "id": "ced945f2",
   "metadata": {},
   "source": [
    "**Example 2**: (nested loop/nested functions)"
   ]
  },
  {
   "cell_type": "code",
   "execution_count": null,
   "id": "81332c6a",
   "metadata": {},
   "outputs": [],
   "source": []
  },
  {
   "cell_type": "markdown",
   "id": "dc80210e",
   "metadata": {},
   "source": [
    "**Example 3**: (recursion/nested functions)"
   ]
  },
  {
   "cell_type": "code",
   "execution_count": null,
   "id": "355610da",
   "metadata": {},
   "outputs": [],
   "source": []
  },
  {
   "cell_type": "markdown",
   "id": "4d38c023",
   "metadata": {},
   "source": [
    "**Example 4**: (classes)"
   ]
  },
  {
   "cell_type": "code",
   "execution_count": null,
   "id": "f3fdf26b",
   "metadata": {},
   "outputs": [],
   "source": []
  },
  {
   "cell_type": "markdown",
   "id": "2c2bc57c",
   "metadata": {},
   "source": [
    "**Example 5**: (loops)"
   ]
  },
  {
   "cell_type": "code",
   "execution_count": null,
   "id": "914aaa34",
   "metadata": {},
   "outputs": [],
   "source": []
  }
 ],
 "metadata": {
  "kernelspec": {
   "display_name": "Python 3",
   "language": "python",
   "name": "python3"
  },
  "language_info": {
   "codemirror_mode": {
    "name": "ipython",
    "version": 3
   },
   "file_extension": ".py",
   "mimetype": "text/x-python",
   "name": "python",
   "nbconvert_exporter": "python",
   "pygments_lexer": "ipython3",
   "version": "3.9.1"
  }
 },
 "nbformat": 4,
 "nbformat_minor": 5
}
