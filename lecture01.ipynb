{
 "cells": [
  {
   "cell_type": "markdown",
   "metadata": {},
   "source": [
    "**Jupyter Notebooks**"
   ]
  },
  {
   "cell_type": "code",
   "execution_count": 1,
   "metadata": {},
   "outputs": [
    {
     "name": "stdout",
     "output_type": "stream",
     "text": [
      "Hello, world!\n"
     ]
    }
   ],
   "source": [
    "print(\"Hello, world!\")"
   ]
  },
  {
   "cell_type": "markdown",
   "metadata": {},
   "source": [
    "**Errors (1.7-1.9)**"
   ]
  },
  {
   "cell_type": "code",
   "execution_count": 6,
   "metadata": {},
   "outputs": [
    {
     "name": "stdout",
     "output_type": "stream",
     "text": [
      "hello\n",
      "50.0\n"
     ]
    }
   ],
   "source": [
    "print(\"hello\") # syntax error\n",
    "\n",
    "x = 5 / 2 # runtime error\n",
    "\n",
    "# semantic errors - the computer does *exactly* what you tell it to!\n",
    "# textbook: forgetting to multiply by 100 when printing a percentage amount \n",
    "fun_percentage = (50 / 100) * 100\n",
    "print(fun_percentage)"
   ]
  },
  {
   "cell_type": "markdown",
   "metadata": {},
   "source": [
    "**Review variable types (2.1, 2.2)**: strings, floats, ints"
   ]
  },
  {
   "cell_type": "code",
   "execution_count": 7,
   "metadata": {},
   "outputs": [],
   "source": [
    "# STRINGS - text made up of characters (ASCII, unicode)\n",
    "my_string = \"Hello, world\"\n",
    "percentage = 52.5\n",
    "age = 21"
   ]
  },
  {
   "cell_type": "markdown",
   "metadata": {},
   "source": [
    "**Type conversion/(type)casting (2.3)**\n"
   ]
  },
  {
   "cell_type": "code",
   "execution_count": 10,
   "metadata": {},
   "outputs": [
    {
     "name": "stdout",
     "output_type": "stream",
     "text": [
      "What is your country? United States\n",
      "What is your age? 19\n",
      "How much money do you have? 20.0\n"
     ]
    }
   ],
   "source": [
    "country = input(\"What is your country? \")\n",
    "\n",
    "new_age = int(input(\"What is your age? \"))\n",
    "new_age = new_age + 1\n",
    "\n",
    "money = float(input(\"How much money do you have? \"))\n",
    "\n",
    "# string concatenation: 191"
   ]
  },
  {
   "cell_type": "markdown",
   "metadata": {},
   "source": [
    "**Variables (2.4)** - variables have a **type**, **identifier**, and **value**!\n",
    "\n",
    "Q1: Can a variable store multiple values?\n",
    "\n",
    "Q2: Can a variable change over the life of a program?\n",
    "\n",
    "*Note the differences between assignment and equality!*"
   ]
  },
  {
   "cell_type": "code",
   "execution_count": 13,
   "metadata": {},
   "outputs": [
    {
     "name": "stdout",
     "output_type": "stream",
     "text": [
      "20.0\n",
      "21.5\n"
     ]
    }
   ],
   "source": [
    "# type: float\n",
    "# identifier: money\n",
    "# value: 20.0\n",
    "\n",
    "# assignment operator\n",
    "money = 20.0\n",
    "print(money)\n",
    "money = 21.5\n",
    "print(money)\n",
    "\n",
    "# branching/conditionals\n",
    "# =="
   ]
  },
  {
   "cell_type": "markdown",
   "metadata": {},
   "source": [
    "**Identify expressions, variables, and statements in the following program. (2.3, 2.6)**"
   ]
  },
  {
   "cell_type": "code",
   "execution_count": 14,
   "metadata": {},
   "outputs": [
    {
     "name": "stdout",
     "output_type": "stream",
     "text": [
      "Hey, what is your name? Ethan\n"
     ]
    },
    {
     "data": {
      "text/plain": [
       "'Ethan'"
      ]
     },
     "execution_count": 14,
     "metadata": {},
     "output_type": "execute_result"
    }
   ],
   "source": [
    "name = \"Ethan\" # variable, statement\n",
    "1 + 1 # expression, statement\n",
    "x = 2 + 5 # expression, variable, statement\n",
    "input(\"Hey, what is your name? \") # NOT a variable, this is a statement"
   ]
  },
  {
   "cell_type": "markdown",
   "metadata": {},
   "source": [
    "**Variable Naming (2.5)**"
   ]
  },
  {
   "cell_type": "code",
   "execution_count": null,
   "metadata": {},
   "outputs": [],
   "source": [
    "age = 19\n",
    "# if this is a constant, use constant notation\n",
    "COURSE_ID = 128\n",
    "\n",
    "class_name = \"CSCI128\"\n",
    "balance = 20.0\n",
    "football_score = 3 + 20\n",
    "\n",
    "\n",
    "# lower_snake_case\n",
    "# CONSTANT_NAMING\n",
    "# descriptive names, not x,y,z\n",
    "# don't make names too long! or even too descriptive!\n"
   ]
  },
  {
   "cell_type": "markdown",
   "metadata": {},
   "source": [
    "**Python keywords**: and, as, assert, break, class, continue, def, del, elif, else, except, exec, finally, for, from, global, if, import, in, is, lambda, nonlocal, not, or, pass, raise, return, try, while, with, yield, True, False, None"
   ]
  },
  {
   "cell_type": "markdown",
   "metadata": {},
   "source": [
    "**Operators and Operands (2.7)** - math!"
   ]
  },
  {
   "cell_type": "code",
   "execution_count": null,
   "metadata": {},
   "outputs": [],
   "source": []
  },
  {
   "cell_type": "markdown",
   "metadata": {},
   "source": [
    "**Input (2.8)**"
   ]
  },
  {
   "cell_type": "code",
   "execution_count": null,
   "metadata": {},
   "outputs": [],
   "source": []
  },
  {
   "cell_type": "markdown",
   "metadata": {},
   "source": [
    "**Updating variables & reassignment (2.10, 2.11)**"
   ]
  },
  {
   "cell_type": "code",
   "execution_count": null,
   "metadata": {},
   "outputs": [],
   "source": []
  }
 ],
 "metadata": {
  "kernelspec": {
   "display_name": "Python 3 (ipykernel)",
   "language": "python",
   "name": "python3"
  },
  "language_info": {
   "codemirror_mode": {
    "name": "ipython",
    "version": 3
   },
   "file_extension": ".py",
   "mimetype": "text/x-python",
   "name": "python",
   "nbconvert_exporter": "python",
   "pygments_lexer": "ipython3",
   "version": "3.8.10"
  }
 },
 "nbformat": 4,
 "nbformat_minor": 2
}
