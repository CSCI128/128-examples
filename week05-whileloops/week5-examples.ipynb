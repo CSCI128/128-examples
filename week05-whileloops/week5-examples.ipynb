{
 "cells": [
  {
   "cell_type": "markdown",
   "id": "4207ec35",
   "metadata": {},
   "source": [
    "**Example 1:** What is wrong with this code?"
   ]
  },
  {
   "cell_type": "code",
   "execution_count": null,
   "id": "0d8412e7",
   "metadata": {},
   "outputs": [],
   "source": [
    "# sum up every number the user inputs until they input 999\n",
    "nums = []\n",
    "while True:\n",
    "    num = int(input(\"Please enter a number (or 999 to stop): \"))\n",
    "    if num == 999:\n",
    "        break\n",
    "    nums.append(num)\n",
    "\n",
    "num_sum = 0\n",
    "for num in nums:\n",
    "    num_sum += num\n",
    "    \n",
    "print(num_sum)"
   ]
  },
  {
   "cell_type": "markdown",
   "id": "943cff6b",
   "metadata": {},
   "source": [
    "**Example 2:** Rewrite the following code using a for loop instead of a while loop."
   ]
  },
  {
   "cell_type": "code",
   "execution_count": null,
   "id": "d3f63fa3",
   "metadata": {},
   "outputs": [],
   "source": [
    "chars = ['P', 'y', 't', 'h', 'o', 'n', '!']\n",
    "count = 0\n",
    "output = \"\"\n",
    "\n",
    "while count < len(chars):\n",
    "    output += chars[count]\n",
    "    count += 1\n",
    "\n",
    "print(output)"
   ]
  },
  {
   "cell_type": "markdown",
   "id": "f4d6ae9b",
   "metadata": {},
   "source": [
    "**Example 3:** Rewrite the following code using a while loop instead of a for loop."
   ]
  },
  {
   "cell_type": "code",
   "execution_count": null,
   "id": "e2180463",
   "metadata": {},
   "outputs": [],
   "source": [
    "for i in range(0, 9):\n",
    "    print(i)"
   ]
  }
 ],
 "metadata": {
  "kernelspec": {
   "display_name": "Python 3 (ipykernel)",
   "language": "python",
   "name": "python3"
  },
  "language_info": {
   "codemirror_mode": {
    "name": "ipython",
    "version": 3
   },
   "file_extension": ".py",
   "mimetype": "text/x-python",
   "name": "python",
   "nbconvert_exporter": "python",
   "pygments_lexer": "ipython3",
   "version": "3.8.10"
  }
 },
 "nbformat": 4,
 "nbformat_minor": 5
}
