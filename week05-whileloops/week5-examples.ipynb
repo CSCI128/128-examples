{
 "cells": [
  {
   "cell_type": "markdown",
   "id": "4207ec35",
   "metadata": {},
   "source": [
    "**Example 1:** What is wrong with this code?"
   ]
  },
  {
   "cell_type": "code",
   "execution_count": null,
   "id": "0d8412e7",
   "metadata": {},
   "outputs": [],
   "source": [
    "# sum up every number the user inputs until they input 999\n",
    "nums = []\n",
    "while True:\n",
    "    num = int(input(\"Please enter a number (or 999 to stop): \"))\n",
    "    if num == 999:\n",
    "        break\n",
    "    nums.append(num)\n",
    "\n",
    "num_sum = 0\n",
    "for num in nums:\n",
    "    num_sum += num\n",
    "    \n",
    "print(num_sum)"
   ]
  }
 ],
 "metadata": {
  "kernelspec": {
   "display_name": "Python 3 (ipykernel)",
   "language": "python",
   "name": "python3"
  },
  "language_info": {
   "codemirror_mode": {
    "name": "ipython",
    "version": 3
   },
   "file_extension": ".py",
   "mimetype": "text/x-python",
   "name": "python",
   "nbconvert_exporter": "python",
   "pygments_lexer": "ipython3",
   "version": "3.8.10"
  }
 },
 "nbformat": 4,
 "nbformat_minor": 5
}
