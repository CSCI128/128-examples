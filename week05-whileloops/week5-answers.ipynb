{
 "cells": [
  {
   "cell_type": "markdown",
   "id": "f200a773",
   "metadata": {},
   "source": [
    "**Topics Covered**: While loops\n",
    "\n",
    "**Keywords**: Counter, loop body, iteration, infinite loop, indefinite iteration, loop"
   ]
  },
  {
   "cell_type": "markdown",
   "id": "2d839cdf",
   "metadata": {},
   "source": [
    "**Example 1**: Write a program which takes user input as strings until the user inputs \"done\"; store all strings in a list and print the list out."
   ]
  },
  {
   "cell_type": "code",
   "execution_count": 1,
   "id": "2a7d6c74",
   "metadata": {},
   "outputs": [
    {
     "name": "stdout",
     "output_type": "stream",
     "text": [
      "Please enter a string: a\n",
      "Please enter a string: b\n",
      "Please enter a string: c\n",
      "Please enter a string: d\n",
      "Please enter a string: done\n",
      "['a', 'b', 'c', 'd']\n"
     ]
    }
   ],
   "source": [
    "string_list = []\n",
    "user_input = input(\"Please enter a string: \")\n",
    "\n",
    "while user_input != \"done\":\n",
    "    string_list.append(user_input)\n",
    "    user_input = input(\"Please enter a string: \")\n",
    "\n",
    "print(string_list)"
   ]
  },
  {
   "cell_type": "markdown",
   "id": "4207ec35",
   "metadata": {},
   "source": [
    "**Example 2:** Finish the block of code below. How does this differ from the first example?"
   ]
  },
  {
   "cell_type": "code",
   "execution_count": 1,
   "id": "0d8412e7",
   "metadata": {},
   "outputs": [
    {
     "name": "stdout",
     "output_type": "stream",
     "text": [
      "Please enter a number (or 999 to stop): 3\n",
      "Please enter a number (or 999 to stop): 4\n",
      "Please enter a number (or 999 to stop): 5\n",
      "Please enter a number (or 999 to stop): 999\n",
      "12\n"
     ]
    }
   ],
   "source": [
    "# sum up every number the user inputs until they input 999\n",
    "nums = []\n",
    "\n",
    "# add each user-inputted number to the nums array until the user inputs 999\n",
    "while True:\n",
    "    num = int(input(\"Please enter a number (or 999 to stop): \"))\n",
    "    if num == 999:\n",
    "        break\n",
    "    nums.append(num)\n",
    "\n",
    "# sum up all the numbers in the list\n",
    "num_sum = 0\n",
    "counter = 0\n",
    "while counter < len(nums):\n",
    "    num_sum += nums[counter]\n",
    "    counter = counter + 1\n",
    "    \n",
    "print(num_sum)"
   ]
  },
  {
   "cell_type": "markdown",
   "id": "0473a94c",
   "metadata": {},
   "source": [
    "**Example 3**: Does this program ever end?"
   ]
  },
  {
   "cell_type": "code",
   "execution_count": 5,
   "id": "5b7ebb30",
   "metadata": {},
   "outputs": [
    {
     "name": "stdout",
     "output_type": "stream",
     "text": [
      "7.89\n",
      "15.34\n",
      "35.34\n",
      "13.29\n",
      "28.0\n"
     ]
    }
   ],
   "source": [
    "expenses = [7.89, 15.34, 35.34, 13.29, 28.00]\n",
    "\n",
    "while len(expenses) > 0:\n",
    "    print(expenses[0])\n",
    "    expenses.remove(expenses[0])\n",
    "    \n",
    "# answer: YES, this program ends; we get and remove from the array (there's also a .pop() method for this)"
   ]
  },
  {
   "cell_type": "code",
   "execution_count": null,
   "id": "691cb240",
   "metadata": {},
   "outputs": [],
   "source": []
  }
 ],
 "metadata": {
  "kernelspec": {
   "display_name": "Python 3",
   "language": "python",
   "name": "python3"
  },
  "language_info": {
   "codemirror_mode": {
    "name": "ipython",
    "version": 3
   },
   "file_extension": ".py",
   "mimetype": "text/x-python",
   "name": "python",
   "nbconvert_exporter": "python",
   "pygments_lexer": "ipython3",
   "version": "3.9.1"
  }
 },
 "nbformat": 4,
 "nbformat_minor": 5
}
