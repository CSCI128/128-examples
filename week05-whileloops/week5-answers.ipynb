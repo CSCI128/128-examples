{
 "cells": [
  {
   "cell_type": "markdown",
   "id": "2d839cdf",
   "metadata": {},
   "source": [
    "**Example 1**: Write a program which takes user input as strings until the user inputs \"done\"; store all strings in a list and print the list out."
   ]
  },
  {
   "cell_type": "code",
   "execution_count": 1,
   "id": "2a7d6c74",
   "metadata": {},
   "outputs": [
    {
     "name": "stdout",
     "output_type": "stream",
     "text": [
      "Please enter a string: a\n",
      "Please enter a string: b\n",
      "Please enter a string: c\n",
      "Please enter a string: d\n",
      "Please enter a string: done\n",
      "['a', 'b', 'c', 'd']\n"
     ]
    }
   ],
   "source": [
    "string_list = []\n",
    "user_input = input(\"Please enter a string: \")\n",
    "\n",
    "while user_input != \"done\":\n",
    "    string_list.append(user_input)\n",
    "    user_input = input(\"Please enter a string: \")\n",
    "\n",
    "print(string_list)"
   ]
  },
  {
   "cell_type": "markdown",
   "id": "0473a94c",
   "metadata": {},
   "source": [
    "**Example 2**: Does this program ever end?"
   ]
  },
  {
   "cell_type": "code",
   "execution_count": null,
   "id": "5b7ebb30",
   "metadata": {},
   "outputs": [],
   "source": [
    "expenses = [7.89, 15.34, 35.34, 13.29, 28.00]\n",
    "\n",
    "while len(expenses) > 0:\n",
    "    print(expenses.pop())\n",
    "    \n",
    "# answer: YES, this program ends; pop gets *and* removes from the array"
   ]
  },
  {
   "cell_type": "markdown",
   "id": "4207ec35",
   "metadata": {},
   "source": [
    "**Example 3:** What, if anything, is wrong with this code?"
   ]
  },
  {
   "cell_type": "code",
   "execution_count": null,
   "id": "0d8412e7",
   "metadata": {},
   "outputs": [],
   "source": [
    "# sum up every number the user inputs until they input 999\n",
    "nums = []\n",
    "while True:\n",
    "    num = int(input(\"Please enter a number (or 999 to stop): \"))\n",
    "    if num == 999:\n",
    "        break\n",
    "    nums.append(num)\n",
    "\n",
    "num_sum = 0\n",
    "for num in nums:\n",
    "    num_sum += num\n",
    "    \n",
    "print(num_sum)\n",
    "\n",
    "# nothing is technically wrong..but is \"while True:\" the most meaningful way to do this? How can we avoid this?"
   ]
  }
 ],
 "metadata": {
  "kernelspec": {
   "display_name": "Python 3 (ipykernel)",
   "language": "python",
   "name": "python3"
  },
  "language_info": {
   "codemirror_mode": {
    "name": "ipython",
    "version": 3
   },
   "file_extension": ".py",
   "mimetype": "text/x-python",
   "name": "python",
   "nbconvert_exporter": "python",
   "pygments_lexer": "ipython3",
   "version": "3.8.10"
  }
 },
 "nbformat": 4,
 "nbformat_minor": 5
}
