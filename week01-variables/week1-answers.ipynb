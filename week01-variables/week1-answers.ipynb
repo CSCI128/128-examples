{
 "cells": [
  {
   "cell_type": "markdown",
   "metadata": {},
   "source": [
    "**Topics Covered**: Variables, inputs, data types, operators\n",
    "\n",
    "**Keywords**: comment, exception/error, program, syntax, data type, assignment, statement, expression, evaluate, float, int, modulo, string, variable, type conversion, print, output"
   ]
  },
  {
   "cell_type": "markdown",
   "metadata": {},
   "source": [
    "**Jupyter Notebooks**"
   ]
  },
  {
   "cell_type": "code",
   "execution_count": 6,
   "metadata": {},
   "outputs": [
    {
     "data": {
      "text/plain": [
       "7"
      ]
     },
     "execution_count": 6,
     "metadata": {},
     "output_type": "execute_result"
    }
   ],
   "source": [
    "3 + 4"
   ]
  },
  {
   "cell_type": "markdown",
   "metadata": {},
   "source": [
    "**Example 1**: Write a program that takes two integers as user input and exponentiates the first to the power of the second."
   ]
  },
  {
   "cell_type": "code",
   "execution_count": 3,
   "metadata": {},
   "outputs": [
    {
     "name": "stdout",
     "output_type": "stream",
     "text": [
      "Enter a number to exponentiate: 2\n",
      "Enter a number to raise the base to: 3\n",
      "8\n"
     ]
    }
   ],
   "source": [
    "base = int(input(\"Enter a number to exponentiate: \"))\n",
    "power = int(input(\"Enter a number to raise the base to: \"))\n",
    "print(base ** power)"
   ]
  },
  {
   "cell_type": "markdown",
   "metadata": {},
   "source": [
    "**Example 2**: Write a program that gets the remainder of an inputted number x divided by 2."
   ]
  },
  {
   "cell_type": "code",
   "execution_count": 2,
   "metadata": {},
   "outputs": [
    {
     "name": "stdout",
     "output_type": "stream",
     "text": [
      "Enter a number: 4\n",
      "0\n"
     ]
    }
   ],
   "source": [
    "x = int(input(\"Enter a number: \"))\n",
    "\n",
    "# modulo! \n",
    "print(x % 2)\n",
    "\n",
    "# 4 / 2 = 2\n",
    "# what happens with odd numbers?\n",
    "\n",
    "\n",
    "# use mod to find even/odd numbers! "
   ]
  },
  {
   "cell_type": "markdown",
   "metadata": {},
   "source": [
    "**Example 3**: Write a program that finds the circumference of a circle, taking the radius through user input."
   ]
  },
  {
   "cell_type": "code",
   "execution_count": 1,
   "metadata": {},
   "outputs": [
    {
     "name": "stdout",
     "output_type": "stream",
     "text": [
      "Enter the radius of your circle: 2\n",
      "12.56\n"
     ]
    }
   ],
   "source": [
    "# circumference = 2 * pi * radius\n",
    "radius = float(input(\"Enter the radius of your circle: \"))\n",
    "PI = 3.14\n",
    "circumference = 2 * PI * radius\n",
    "print(circumference)"
   ]
  },
  {
   "cell_type": "code",
   "execution_count": null,
   "metadata": {},
   "outputs": [],
   "source": []
  }
 ],
 "metadata": {
  "kernelspec": {
   "display_name": "Python 3",
   "language": "python",
   "name": "python3"
  },
  "language_info": {
   "codemirror_mode": {
    "name": "ipython",
    "version": 3
   },
   "file_extension": ".py",
   "mimetype": "text/x-python",
   "name": "python",
   "nbconvert_exporter": "python",
   "pygments_lexer": "ipython3",
   "version": "3.9.1"
  }
 },
 "nbformat": 4,
 "nbformat_minor": 2
}
