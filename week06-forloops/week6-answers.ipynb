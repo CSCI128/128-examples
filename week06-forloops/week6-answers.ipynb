{
 "cells": [
  {
   "cell_type": "markdown",
   "id": "5f16d96e",
   "metadata": {},
   "source": [
    "**Example 1**: Traverse the following array with a for loop, first using an incremental for loop, and then a for each loop. Print out all values."
   ]
  },
  {
   "cell_type": "code",
   "execution_count": 3,
   "id": "7b7a0ac8",
   "metadata": {},
   "outputs": [
    {
     "name": "stdout",
     "output_type": "stream",
     "text": [
      "strawberry\n",
      "apple\n",
      "orange\n",
      "watermelon\n",
      "strawberry\n",
      "apple\n",
      "orange\n",
      "watermelon\n"
     ]
    }
   ],
   "source": [
    "fruits = [\"strawberry\", \"apple\", \"orange\", \"watermelon\"]\n",
    "\n",
    "for i in range(0, len(fruits)):\n",
    "    print(fruits[i])\n",
    "\n",
    "for fruit in fruits:\n",
    "    print(fruit)"
   ]
  },
  {
   "cell_type": "markdown",
   "id": "cc217e38",
   "metadata": {},
   "source": [
    "**Example 2:** Rewrite the following code using a for loop instead of a while loop."
   ]
  },
  {
   "cell_type": "code",
   "execution_count": null,
   "id": "8872b22f",
   "metadata": {},
   "outputs": [],
   "source": [
    "chars = ['P', 'y', 't', 'h', 'o', 'n', '!']\n",
    "count = 0\n",
    "output = \"\"\n",
    "\n",
    "while count < len(chars):\n",
    "    output += chars[count]\n",
    "    count += 1\n",
    "\n",
    "print(output)\n",
    "\n",
    "# REWRITTEN\n",
    "output = \"\"\n",
    "for char in chars:\n",
    "    output += char\n",
    "print(output)"
   ]
  },
  {
   "cell_type": "markdown",
   "id": "dd165851",
   "metadata": {},
   "source": [
    "**Example 3:** Rewrite the following code using a while loop instead of a for loop."
   ]
  },
  {
   "cell_type": "code",
   "execution_count": null,
   "id": "8437f91f",
   "metadata": {},
   "outputs": [],
   "source": [
    "for i in range(0, 9):\n",
    "    print(i)\n",
    "\n",
    "# REWRITTEN\n",
    "count = 0\n",
    "while count < 9:\n",
    "    print(count)\n",
    "    count += 1"
   ]
  }
 ],
 "metadata": {
  "kernelspec": {
   "display_name": "Python 3 (ipykernel)",
   "language": "python",
   "name": "python3"
  },
  "language_info": {
   "codemirror_mode": {
    "name": "ipython",
    "version": 3
   },
   "file_extension": ".py",
   "mimetype": "text/x-python",
   "name": "python",
   "nbconvert_exporter": "python",
   "pygments_lexer": "ipython3",
   "version": "3.8.10"
  }
 },
 "nbformat": 4,
 "nbformat_minor": 5
}
