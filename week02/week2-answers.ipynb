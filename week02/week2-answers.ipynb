{
 "cells": [
  {
   "cell_type": "markdown",
   "id": "b76268e5",
   "metadata": {},
   "source": [
    "**Example 1**: Print out \"Colorado School of Mines\" or \"Mines\" three different ways: first, using fstrings, then arrays, then string concatenation."
   ]
  },
  {
   "cell_type": "code",
   "execution_count": 4,
   "id": "246c52ce",
   "metadata": {},
   "outputs": [
    {
     "name": "stdout",
     "output_type": "stream",
     "text": [
      "Colorado School of Mines\n",
      "MINES\n",
      "Colorado School of Mines\n"
     ]
    }
   ],
   "source": [
    "school_name = \"Mines\"\n",
    "print(f\"Colorado School of {school_name}\")\n",
    "\n",
    "# we would never do this, but essentially, strings are lists of chars!\n",
    "name = ['M', 'I', 'N', 'E', 'S'] \n",
    "print(name[0] + name[1] + name[2] + name[3] + name[4]) # what the hell do we care now :)\n",
    "\n",
    "state = \"Colorado\"\n",
    "title = \" School of \"\n",
    "full_name = state + title + school_name\n",
    "\n",
    "print(full_name)"
   ]
  },
  {
   "cell_type": "markdown",
   "id": "a848994e",
   "metadata": {},
   "source": [
    "**Example 2**: Given a list, print the sum of integers at two user-inputted indices. Assume that the user *will not* enter 0 for the first index."
   ]
  },
  {
   "cell_type": "code",
   "execution_count": 5,
   "id": "68ac9b64",
   "metadata": {},
   "outputs": [
    {
     "name": "stdout",
     "output_type": "stream",
     "text": [
      "Please enter the first index: 3\n",
      "Please enter the second index: 4\n",
      "5\n"
     ]
    }
   ],
   "source": [
    "given_list = [3, 1, 4, 1, 5, 9, 2, 6, 5, 3, 5, 8, 9]\n",
    "first_index = int(input(\"Please enter the first index: \"))\n",
    "second_index = int(input(\"Please enter the second index: \"))\n",
    "\n",
    "sum = given_list[first_index - 1] + given_list[second_index - 1]\n",
    "print(sum)"
   ]
  },
  {
   "cell_type": "markdown",
   "id": "30055b83",
   "metadata": {},
   "source": [
    "**Example 3**: Using nested arrays, make a tic-tac-toe board that looks like the following:\n",
    "\n",
    "X | O | X\n",
    "\n",
    "O | X | O\n",
    "\n",
    "O | O | X\n",
    "\n",
    "..and print it out! (No for loops yet!)"
   ]
  },
  {
   "cell_type": "code",
   "execution_count": 3,
   "id": "509e31bc",
   "metadata": {},
   "outputs": [
    {
     "name": "stdout",
     "output_type": "stream",
     "text": [
      "X | O | X\n",
      "O | X | O\n",
      "O | O | X\n"
     ]
    }
   ],
   "source": [
    "board = [ ['X', 'O', 'X'], ['O', 'X', 'O'], ['O', 'O', 'X'] ]\n",
    "\n",
    "print(board[0][0], '|', board[0][1], '|', board[0][2])\n",
    "print(board[1][0], '|', board[1][1], '|', board[1][2])\n",
    "print(board[2][0], '|', board[2][1], '|', board[2][2])"
   ]
  },
  {
   "cell_type": "code",
   "execution_count": null,
   "id": "8a586fa9",
   "metadata": {},
   "outputs": [],
   "source": []
  }
 ],
 "metadata": {
  "kernelspec": {
   "display_name": "Python 3 (ipykernel)",
   "language": "python",
   "name": "python3"
  },
  "language_info": {
   "codemirror_mode": {
    "name": "ipython",
    "version": 3
   },
   "file_extension": ".py",
   "mimetype": "text/x-python",
   "name": "python",
   "nbconvert_exporter": "python",
   "pygments_lexer": "ipython3",
   "version": "3.8.10"
  }
 },
 "nbformat": 4,
 "nbformat_minor": 5
}
