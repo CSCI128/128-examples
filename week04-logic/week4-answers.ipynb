{
 "cells": [
  {
   "cell_type": "markdown",
   "id": "9ee233b1",
   "metadata": {},
   "source": [
    "**Topics Covered**: Boolean logic\n",
    "\n",
    "**Keywords**: boolean values (True/False), comparison operators (<, >, ==), logical operators (and, not, or), conditional statements"
   ]
  },
  {
   "cell_type": "markdown",
   "id": "c06eb94b",
   "metadata": {},
   "source": [
    "**Example 1:** What does the following program print out?"
   ]
  },
  {
   "cell_type": "code",
   "execution_count": 5,
   "id": "8e5c06f9",
   "metadata": {},
   "outputs": [
    {
     "name": "stdout",
     "output_type": "stream",
     "text": [
      "that's a big line of code\n",
      "if statement :)\n"
     ]
    }
   ],
   "source": [
    "a = True\n",
    "b = False\n",
    "\n",
    "if a and b and a or b:\n",
    "    print(\"woohoo!\")\n",
    "elif not a or b:\n",
    "    print(\"another message!\")\n",
    "elif ((a or b) or (a and not b)) and not (a and b):\n",
    "    print(\"that's a big line of code\")\n",
    "if not a == b:\n",
    "    print(\"if statement :)\")\n",
    "else:\n",
    "    print(\"else..\")"
   ]
  },
  {
   "cell_type": "markdown",
   "id": "86110a41",
   "metadata": {},
   "source": [
    "**Example 2:** Fix any issues in the following program."
   ]
  },
  {
   "cell_type": "code",
   "execution_count": 3,
   "id": "c1691b5c",
   "metadata": {},
   "outputs": [],
   "source": [
    "student_one_major = \"Mechanical Engineering\" \n",
    "student_two_major = \"Computer Science\"\n",
    "\n",
    "if student_one_major == \"Computer Science\" and student_two_major == \"Computer Science\":\n",
    "    print(\"Woohoo, CS!!\")\n",
    "\n",
    "if student_one_major == student_two_major:\n",
    "    print(\"Student one and two are the same major!\")"
   ]
  },
  {
   "cell_type": "markdown",
   "id": "19ad5625",
   "metadata": {},
   "source": [
    "**Example 3:** What does the following code do? How could it be improved?"
   ]
  },
  {
   "cell_type": "code",
   "execution_count": 2,
   "id": "ffcd1581",
   "metadata": {},
   "outputs": [
    {
     "name": "stdout",
     "output_type": "stream",
     "text": [
      "You can register for CSCI220.\n"
     ]
    },
    {
     "data": {
      "text/plain": [
       "'\\nCODE BEFORE:\\n\\nclasses_taken = [\"CSCI128\", \"CSCI200\"]\\ncredits = 16\\n\\nif not \"CSCI200\" in classes_taken:\\n    print(\"You don\\'t have the prerequisites for this course!\")\\n\\nif \"CSCI220\" not in classes_taken:\\n    print(\"You can register for CSCI220.\")\\nelse:\\n    print(\"You took 220 already!\")\\n    \\nif not (credits + 3 >= 20):\\n    print(\"You can register!\")\\n    \\nISSUES:\\n- Branch ordering needed a lot of work (multiple things could print, but only one should)\\n- credits + 3 is not descriptive to the maximum amount of credits\\n'"
      ]
     },
     "execution_count": 2,
     "metadata": {},
     "output_type": "execute_result"
    }
   ],
   "source": [
    "classes_taken = [\"CSCI128\", \"CSCI200\"]\n",
    "credits = 16\n",
    "new_credits = credits + 3\n",
    "\n",
    "if \"CSCI200\" not in classes_taken:\n",
    "    print(\"You don't have the prerequisites for this course!\")\n",
    "else:\n",
    "    if new_credits <= 19:\n",
    "        if \"CSCI220\" not in classes_taken:\n",
    "            print(\"You can register for CSCI220.\")\n",
    "        else:\n",
    "            print(\"You took 220 already!\")\n",
    "\n",
    "\"\"\"\n",
    "CODE BEFORE:\n",
    "\n",
    "classes_taken = [\"CSCI128\", \"CSCI200\"]\n",
    "credits = 16\n",
    "\n",
    "if not \"CSCI200\" in classes_taken:\n",
    "    print(\"You don't have the prerequisites for this course!\")\n",
    "\n",
    "if \"CSCI220\" not in classes_taken:\n",
    "    print(\"You can register for CSCI220.\")\n",
    "else:\n",
    "    print(\"You took 220 already!\")\n",
    "    \n",
    "if not (credits + 3 >= 20):\n",
    "    print(\"You can register!\")\n",
    "    \n",
    "ISSUES:\n",
    "- Branch ordering needed a lot of work (multiple things could print, but only one should)\n",
    "- credits + 3 is not descriptive to the maximum amount of credits\n",
    "\"\"\""
   ]
  },
  {
   "cell_type": "code",
   "execution_count": null,
   "id": "18ae774d",
   "metadata": {},
   "outputs": [],
   "source": []
  }
 ],
 "metadata": {
  "kernelspec": {
   "display_name": "Python 3",
   "language": "python",
   "name": "python3"
  },
  "language_info": {
   "codemirror_mode": {
    "name": "ipython",
    "version": 3
   },
   "file_extension": ".py",
   "mimetype": "text/x-python",
   "name": "python",
   "nbconvert_exporter": "python",
   "pygments_lexer": "ipython3",
   "version": "3.9.1"
  }
 },
 "nbformat": 4,
 "nbformat_minor": 5
}
