{
 "cells": [
  {
   "cell_type": "markdown",
   "id": "4995a8c5",
   "metadata": {},
   "source": [
    "**Topics Covered**: Boolean logic\n",
    "\n",
    "**Keywords**: boolean values (True/False), comparison operators (<, >, ==), logical operators (and, not, or), conditional statements"
   ]
  },
  {
   "cell_type": "markdown",
   "id": "c06eb94b",
   "metadata": {},
   "source": [
    "**Example 1:** What does the following program print out?"
   ]
  },
  {
   "cell_type": "code",
   "execution_count": null,
   "id": "8e5c06f9",
   "metadata": {},
   "outputs": [],
   "source": [
    "a = True\n",
    "b = False\n",
    "\n",
    "if a and b and a or b:\n",
    "    print(\"woohoo!\")\n",
    "elif not a or b:\n",
    "    print(\"another message!\")\n",
    "elif ((a or b) or (a and not b)) and not (a and b):\n",
    "    print(\"that's a big line of code\")\n",
    "\n",
    "if not a == b:\n",
    "    print(\"if statement :)\")\n",
    "else:\n",
    "    print(\"else..\")"
   ]
  },
  {
   "cell_type": "markdown",
   "id": "86110a41",
   "metadata": {},
   "source": [
    "**Example 2:** Fix any issues in the following program. What does the following program print out?"
   ]
  },
  {
   "cell_type": "code",
   "execution_count": null,
   "id": "c1691b5c",
   "metadata": {},
   "outputs": [],
   "source": [
    "student_one_major = \"Mechanical Engineering\" \n",
    "student_two_major = \"Computer Science\"\n",
    "\n",
    "if student_one_major and student_two_major == \"Computer Science\":\n",
    "    print(\"Woohoo, CS!!\")\n",
    "\n",
    "if student_one_major = student_two_major:\n",
    "    print(\"Student one and two are the same major!\")"
   ]
  },
  {
   "cell_type": "markdown",
   "id": "19ad5625",
   "metadata": {},
   "source": [
    "**Example 3:** Write a program that registers a student for CSCI220.\n",
    "- Assume that CSCI200 is a 3 credit hour class.\n",
    "- Assume that the maximum amount of credits that a user can register for is 19.\n",
    "- Assume that CSCI200 is a prerequisite for CSCI220.\n",
    "\n",
    "If the student can register, print out `You can register for CSCI220.`\n",
    "\n",
    "If a student can't register, **handle all edge cases**; there should be 3."
   ]
  },
  {
   "cell_type": "code",
   "execution_count": null,
   "id": "ffcd1581",
   "metadata": {},
   "outputs": [],
   "source": [
    "classes_taken = [\"CSCI128\", \"CSCI200\"]\n",
    "credits = 16\n"
   ]
  }
 ],
 "metadata": {
  "kernelspec": {
   "display_name": "Python 3",
   "language": "python",
   "name": "python3"
  },
  "language_info": {
   "codemirror_mode": {
    "name": "ipython",
    "version": 3
   },
   "file_extension": ".py",
   "mimetype": "text/x-python",
   "name": "python",
   "nbconvert_exporter": "python",
   "pygments_lexer": "ipython3",
   "version": "3.9.1"
  }
 },
 "nbformat": 4,
 "nbformat_minor": 5
}
