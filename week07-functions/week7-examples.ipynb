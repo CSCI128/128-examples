{
 "cells": [
  {
   "cell_type": "markdown",
   "id": "5e49598c",
   "metadata": {},
   "source": [
    "**Topics Covered**: Functions\n",
    "\n",
    "**Keywords**: Function, def, return, return value, module, import"
   ]
  },
  {
   "cell_type": "markdown",
   "id": "fb4dcacd",
   "metadata": {},
   "source": [
    "**Example 1**: What's wrong with the following code?"
   ]
  },
  {
   "cell_type": "code",
   "execution_count": null,
   "id": "20cf063f",
   "metadata": {},
   "outputs": [],
   "source": [
    "print_name(\"Dwayne\", \"Johnson\")\n",
    "\n",
    "def print_name(first, last):\n",
    "    print(first, last)\n",
    "    \n",
    "def sum_numbers(number_one, number_two):\n",
    "    new_sum = number_one + number_two\n",
    "    \n",
    "print(new_sum)"
   ]
  },
  {
   "cell_type": "markdown",
   "id": "75c17f55",
   "metadata": {},
   "source": [
    "**Example 2**: Write a function that returns the distance formula.\n",
    "\n",
    "**Distance formula**: d = sqrt( (x2 - x1)^2 + (y2 - y1)^2 )"
   ]
  },
  {
   "cell_type": "code",
   "execution_count": null,
   "id": "de67989c",
   "metadata": {},
   "outputs": [],
   "source": []
  },
  {
   "cell_type": "markdown",
   "id": "9d4c8d83",
   "metadata": {},
   "source": [
    "**Example 3**: Write two functions; one that prints the student name and GPA (taken in by parameters), and another function (called from the first) which prints out all classes in the given array."
   ]
  },
  {
   "cell_type": "code",
   "execution_count": null,
   "id": "08224ab0",
   "metadata": {},
   "outputs": [],
   "source": [
    "classes = [\"CSCI128\", \"CSCI200\", \"CSCI220\", \"CSCI306\"]\n"
   ]
  }
 ],
 "metadata": {
  "kernelspec": {
   "display_name": "Python 3 (ipykernel)",
   "language": "python",
   "name": "python3"
  },
  "language_info": {
   "codemirror_mode": {
    "name": "ipython",
    "version": 3
   },
   "file_extension": ".py",
   "mimetype": "text/x-python",
   "name": "python",
   "nbconvert_exporter": "python",
   "pygments_lexer": "ipython3",
   "version": "3.8.10"
  }
 },
 "nbformat": 4,
 "nbformat_minor": 5
}
