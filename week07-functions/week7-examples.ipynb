{
 "cells": [
  {
   "cell_type": "markdown",
   "id": "5e49598c",
   "metadata": {},
   "source": [
    "**Topics Covered**: Functions\n",
    "\n",
    "**Keywords**: Function, def, return, return value, module, import"
   ]
  },
  {
   "cell_type": "markdown",
   "id": "fb4dcacd",
   "metadata": {},
   "source": [
    "**Example 1**: Fix any issues in the following code."
   ]
  },
  {
   "cell_type": "code",
   "execution_count": null,
   "id": "20cf063f",
   "metadata": {},
   "outputs": [],
   "source": [
    "def print_name(first, last):\n",
    "    print(first, last)\n",
    "\n",
    "print_name(\"Jane\", \"Doe\")\n",
    "    \n",
    "def sum_numbers(number_one, number_two):\n",
    "    new_sum = number_one + number_two\n",
    "    print(new_sum)\n",
    "\n",
    "sum_numbers(3, 4)"
   ]
  },
  {
   "cell_type": "markdown",
   "id": "75c17f55",
   "metadata": {},
   "source": [
    "**Example 2**: Write a function that uses the distance formula to return the distance between two points.\n",
    "\n",
    "**Distance formula**: d = sqrt( (x2 - x1)^2 + (y2 - y1)^2 )"
   ]
  },
  {
   "cell_type": "code",
   "execution_count": null,
   "id": "de67989c",
   "metadata": {},
   "outputs": [],
   "source": [
    "import math\n"
   ]
  },
  {
   "cell_type": "code",
   "execution_count": null,
   "id": "78f91a16",
   "metadata": {},
   "outputs": [],
   "source": [
    "# Note: Anything past a return statement *that successfully executes* won't run!\n",
    "\n",
    "def example_1():\n",
    "    return 1\n",
    "    print(\"returned!\") # this won't print!\n",
    "    x = x + 5\n",
    "\n",
    "y = example_1()\n",
    "    \n",
    "def example_2(n):\n",
    "    if n == 4:\n",
    "        return 4\n",
    "    print(\"about to return:\", n) # this *will* print, if n != 4\n",
    "    return n"
   ]
  },
  {
   "cell_type": "markdown",
   "id": "9d4c8d83",
   "metadata": {},
   "source": [
    "**Example 3**: Write two functions; one that prints a student's name and GPA (taken in by parameters), and another function (called from the first) which prints out all classes in the given list."
   ]
  },
  {
   "cell_type": "code",
   "execution_count": null,
   "id": "08224ab0",
   "metadata": {},
   "outputs": [],
   "source": [
    "classes = [\"CSCI128\", \"CSCI200\", \"CSCI220\", \"CSCI306\"]\n",
    "\n",
    "# CODE HERE!\n",
    "\n",
    "print_student_info(\"John Smith\", 3.9)"
   ]
  }
 ],
 "metadata": {
  "kernelspec": {
   "display_name": "Python 3",
   "language": "python",
   "name": "python3"
  },
  "language_info": {
   "codemirror_mode": {
    "name": "ipython",
    "version": 3
   },
   "file_extension": ".py",
   "mimetype": "text/x-python",
   "name": "python",
   "nbconvert_exporter": "python",
   "pygments_lexer": "ipython3",
   "version": "3.9.1"
  }
 },
 "nbformat": 4,
 "nbformat_minor": 5
}
