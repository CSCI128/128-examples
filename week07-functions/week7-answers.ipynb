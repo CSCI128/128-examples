{
 "cells": [
  {
   "cell_type": "markdown",
   "id": "2be06b28",
   "metadata": {},
   "source": [
    "**Example 1**: What's wrong with the following code?"
   ]
  },
  {
   "cell_type": "code",
   "execution_count": 1,
   "id": "fbc6faf1",
   "metadata": {},
   "outputs": [
    {
     "name": "stdout",
     "output_type": "stream",
     "text": [
      "Dwayne Johnson\n",
      "7\n"
     ]
    }
   ],
   "source": [
    "def print_name(first, last):\n",
    "    print(first, last)\n",
    "\n",
    "print_name(\"Dwayne\", \"Johnson\")\n",
    "    \n",
    "def sum_numbers(number_one, number_two):\n",
    "    new_sum = number_one + number_two\n",
    "    print(new_sum)\n",
    "\n",
    "sum_numbers(3, 4)"
   ]
  },
  {
   "cell_type": "markdown",
   "id": "988d7537",
   "metadata": {},
   "source": [
    "**Example 2**: Write a function that returns the distance formula.\n",
    "\n",
    "**Distance formula**: d = sqrt( (x2 - x1)^2 + (y2 - y1)^2 )"
   ]
  },
  {
   "cell_type": "code",
   "execution_count": 5,
   "id": "8102f654",
   "metadata": {},
   "outputs": [
    {
     "name": "stdout",
     "output_type": "stream",
     "text": [
      "1.4142135623730951\n"
     ]
    }
   ],
   "source": [
    "import math\n",
    "\n",
    "def distance(x2, x1, y2, y1):\n",
    "    print(math.sqrt((x2 - x1) ** 2 + (y2 - y1) ** 2))\n",
    "\n",
    "distance(3, 4, 6, 5)"
   ]
  },
  {
   "cell_type": "markdown",
   "id": "e2c3b3c9",
   "metadata": {},
   "source": [
    "**Example 3**: Write a function that uses 3 other functions + variable scope"
   ]
  },
  {
   "cell_type": "code",
   "execution_count": 2,
   "id": "d1426f18",
   "metadata": {},
   "outputs": [
    {
     "name": "stdout",
     "output_type": "stream",
     "text": [
      "Student Info for John Smith\n",
      "GPA: 3.9\n",
      "Classes taken:\n",
      "CSCI128\n",
      "CSCI200\n",
      "CSCI220\n",
      "CSCI306\n"
     ]
    }
   ],
   "source": [
    "classes = [\"CSCI128\", \"CSCI200\", \"CSCI220\", \"CSCI306\"]\n",
    "\n",
    "def print_student_info(name, gpa):\n",
    "    print(f\"Student Info for {name}\")\n",
    "    print(f\"GPA: {gpa}\")\n",
    "    print_classes()\n",
    "\n",
    "def print_classes():\n",
    "    print(\"Classes taken:\")\n",
    "    for _class in classes:\n",
    "        print(_class)\n",
    "\n",
    "print_student_info(\"John Smith\", 3.9)"
   ]
  },
  {
   "cell_type": "code",
   "execution_count": null,
   "id": "ed276a8c",
   "metadata": {},
   "outputs": [],
   "source": []
  }
 ],
 "metadata": {
  "kernelspec": {
   "display_name": "Python 3 (ipykernel)",
   "language": "python",
   "name": "python3"
  },
  "language_info": {
   "codemirror_mode": {
    "name": "ipython",
    "version": 3
   },
   "file_extension": ".py",
   "mimetype": "text/x-python",
   "name": "python",
   "nbconvert_exporter": "python",
   "pygments_lexer": "ipython3",
   "version": "3.8.10"
  }
 },
 "nbformat": 4,
 "nbformat_minor": 5
}
