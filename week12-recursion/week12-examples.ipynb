{
 "cells": [
  {
   "cell_type": "markdown",
   "id": "a8f9fed9",
   "metadata": {},
   "source": [
    "**Topics Covered:** Recursion\n",
    "\n",
    "**Keywords:** Base case, recursive case, iteration, recursion, call stack, function calls"
   ]
  },
  {
   "cell_type": "markdown",
   "id": "82117e70",
   "metadata": {},
   "source": [
    "**Example 1:** Below is a for loop that counts down from 10 to 0. Re-write it using recursion."
   ]
  },
  {
   "cell_type": "code",
   "execution_count": null,
   "id": "d2869740",
   "metadata": {},
   "outputs": [],
   "source": [
    "def countdown(n):\n",
    "    for i in range(n, 0, -1):\n",
    "        print(i)\n",
    "        \n",
    "countdown(10)"
   ]
  },
  {
   "cell_type": "markdown",
   "id": "c35eb2aa",
   "metadata": {},
   "source": [
    "**Example 2:** Implement a factorial function recursively.\n",
    "(Remember that 0! = 1)"
   ]
  },
  {
   "cell_type": "code",
   "execution_count": null,
   "id": "83436f10",
   "metadata": {},
   "outputs": [],
   "source": []
  }
 ],
 "metadata": {
  "kernelspec": {
   "display_name": "Python 3 (ipykernel)",
   "language": "python",
   "name": "python3"
  },
  "language_info": {
   "codemirror_mode": {
    "name": "ipython",
    "version": 3
   },
   "file_extension": ".py",
   "mimetype": "text/x-python",
   "name": "python",
   "nbconvert_exporter": "python",
   "pygments_lexer": "ipython3",
   "version": "3.8.10"
  }
 },
 "nbformat": 4,
 "nbformat_minor": 5
}
