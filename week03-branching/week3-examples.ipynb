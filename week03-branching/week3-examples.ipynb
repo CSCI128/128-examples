{
 "cells": [
  {
   "cell_type": "markdown",
   "id": "2c86b94f",
   "metadata": {},
   "source": [
    "**Topics Covered**: Branching & conditionals, boolean expressions\n",
    "\n",
    "**Keywords**: if, else, else if, True, False, boolean, equals, not equals !="
   ]
  },
  {
   "cell_type": "markdown",
   "id": "7c553b3c",
   "metadata": {},
   "source": [
    "**Example 1**: What will the program below output?"
   ]
  },
  {
   "cell_type": "code",
   "execution_count": null,
   "id": "c4c0ca26",
   "metadata": {},
   "outputs": [],
   "source": [
    "is_student = True\n",
    "age = 20\n",
    "name = \"Tim\"\n",
    "\n",
    "if is_student == True:\n",
    "    print(f\"{name} is a student!\")\n",
    "\n",
    "if is_student:\n",
    "    print(f\"{name} is a good student!\")\n",
    "\n",
    "if age != 19:\n",
    "    print(f\"Age: {age}\")"
   ]
  },
  {
   "cell_type": "markdown",
   "id": "89343498",
   "metadata": {},
   "source": [
    "**Example 2**: Write a program that lets a user withdraw an inputted amount from their account. Properly handle any invalid situations (if user has no money left in account, if user enters to withdraw $0)."
   ]
  },
  {
   "cell_type": "code",
   "execution_count": null,
   "id": "66418241",
   "metadata": {},
   "outputs": [],
   "source": [
    "balance = 35.0\n"
   ]
  },
  {
   "cell_type": "markdown",
   "id": "f1a915a9",
   "metadata": {},
   "source": [
    "**Example 3**: Write a program that takes a user-inputted number and does the following:\n",
    "\n",
    "If the number is divisible by 3, print \"Fizz\" instead of the number.\n",
    "\n",
    "If the number is divisible by 5, print \"Buzz\" instead of the number.\n",
    "\n",
    "If the number is divisible by 3 and 5, print \"FizzBuzz\" instead of the number.\n",
    "\n",
    "Otherwise, print out the number."
   ]
  },
  {
   "cell_type": "code",
   "execution_count": null,
   "id": "0ba981e3",
   "metadata": {},
   "outputs": [],
   "source": []
  }
 ],
 "metadata": {
  "kernelspec": {
   "display_name": "Python 3",
   "language": "python",
   "name": "python3"
  },
  "language_info": {
   "codemirror_mode": {
    "name": "ipython",
    "version": 3
   },
   "file_extension": ".py",
   "mimetype": "text/x-python",
   "name": "python",
   "nbconvert_exporter": "python",
   "pygments_lexer": "ipython3",
   "version": "3.9.1"
  }
 },
 "nbformat": 4,
 "nbformat_minor": 5
}
