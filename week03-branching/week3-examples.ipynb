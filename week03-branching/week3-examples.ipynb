{
 "cells": [
  {
   "cell_type": "markdown",
   "id": "7c553b3c",
   "metadata": {},
   "source": [
    "**Example 1**: What will the following program print out?"
   ]
  },
  {
   "cell_type": "code",
   "execution_count": null,
   "id": "c4c0ca26",
   "metadata": {},
   "outputs": [],
   "source": [
    "is_student = True\n",
    "age = 19\n",
    "name = \"Ethan\"\n",
    "\n",
    "if is_student == True:\n",
    "    print(f\"{name} is a student!\")\n",
    "\n",
    "if is_student:\n",
    "    print(f\"{name} is a good student!\")\n",
    "\n",
    "if not age > 19:\n",
    "    print(f\"Age: {age}\")"
   ]
  },
  {
   "cell_type": "markdown",
   "id": "190eb320",
   "metadata": {},
   "source": [
    "**Example 2**: Solve the given tasks with a for loop.\n",
    "\n",
    "1. Print out the string \"Mines\" with a for loop.\n",
    " \n",
    "2. Print out the sum of every number in the following array: [1, 2, 3, 4, 5, 6]\n",
    "\n",
    "3. Given two arrays, print out a third array with the overlapping elements. (union)\n",
    "\n",
    "Array One: [1, 2, 3, 4]\n",
    "\n",
    "Array Two: [3, 4, 5]"
   ]
  },
  {
   "cell_type": "code",
   "execution_count": null,
   "id": "a2f1a5f5",
   "metadata": {},
   "outputs": [],
   "source": []
  },
  {
   "cell_type": "markdown",
   "id": "f1a915a9",
   "metadata": {},
   "source": [
    "**Example 3** (FizzBuzz): Write a program that prints numbers 1 to 100. \n",
    "\n",
    "If the number is divisible by 3, print \"Fizz\" instead of the number.\n",
    "\n",
    "If the number is divisible by 5, print \"Buzz\" instead of the number.\n",
    "\n",
    "If the number is divisible by 3 and 5, print \"FizzBuzz\" instead of the number."
   ]
  },
  {
   "cell_type": "code",
   "execution_count": null,
   "id": "0ba981e3",
   "metadata": {},
   "outputs": [],
   "source": []
  }
 ],
 "metadata": {
  "kernelspec": {
   "display_name": "Python 3 (ipykernel)",
   "language": "python",
   "name": "python3"
  },
  "language_info": {
   "codemirror_mode": {
    "name": "ipython",
    "version": 3
   },
   "file_extension": ".py",
   "mimetype": "text/x-python",
   "name": "python",
   "nbconvert_exporter": "python",
   "pygments_lexer": "ipython3",
   "version": "3.8.10"
  }
 },
 "nbformat": 4,
 "nbformat_minor": 5
}
