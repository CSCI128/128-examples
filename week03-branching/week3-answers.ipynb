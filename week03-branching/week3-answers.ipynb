{
 "cells": [
  {
   "cell_type": "markdown",
   "id": "d8889901",
   "metadata": {},
   "source": [
    "**Topics Covered**: Branching & conditionals, boolean expressions\n",
    "\n",
    "**Keywords**: if, else, else if, True, False, boolean, equals, not"
   ]
  },
  {
   "cell_type": "markdown",
   "id": "7c553b3c",
   "metadata": {},
   "source": [
    "**Example 1**: What will the program below output?"
   ]
  },
  {
   "cell_type": "code",
   "execution_count": 9,
   "id": "c4c0ca26",
   "metadata": {},
   "outputs": [
    {
     "name": "stdout",
     "output_type": "stream",
     "text": [
      "Tim is a student!\n",
      "Tim is a good student!\n"
     ]
    }
   ],
   "source": [
    "is_student = True\n",
    "age = 20\n",
    "name = \"Tim\"\n",
    "\n",
    "if is_student == True:\n",
    "    print(f\"{name} is a student!\")\n",
    "\n",
    "if is_student:\n",
    "    print(f\"{name} is a good student!\")\n",
    "\n",
    "if not age > 19:\n",
    "    print(f\"Age: {age}\")"
   ]
  },
  {
   "cell_type": "markdown",
   "id": "b88ba09e",
   "metadata": {},
   "source": [
    "**Example 2**: Write a program that lets a user withdraw an inputted amount from their account. Properly handle any invalid situations (if user has no money left in account, if user enters to withdraw $0, etc.)."
   ]
  },
  {
   "cell_type": "code",
   "execution_count": 11,
   "id": "0a55a1e0",
   "metadata": {},
   "outputs": [
    {
     "name": "stdout",
     "output_type": "stream",
     "text": [
      "How much do you want to withdraw? $35.02\n",
      "You do not have the sufficient funds to do that.\n"
     ]
    }
   ],
   "source": [
    "balance = 35.0\n",
    "\n",
    "withdraw_amount = float(input(\"How much do you want to withdraw? $\"))\n",
    "\n",
    "if withdraw_amount == 0:\n",
    "    print(\"Please enter a value over 0.\")\n",
    "\n",
    "if withdraw_amount > balance:\n",
    "    print(\"You do not have the sufficient funds to do that.\")\n",
    "else:\n",
    "    balance = balance - withdraw_amount\n",
    "    print(f\"New balance after withdrawal: ${balance}\")"
   ]
  },
  {
   "cell_type": "markdown",
   "id": "f1a915a9",
   "metadata": {},
   "source": [
    "**Example 3**: Write a program that takes a user-inputted number and does the following:\n",
    "\n",
    "If the number is divisible by 3, print \"Fizz\" instead of the number.\n",
    "\n",
    "If the number is divisible by 5, print \"Buzz\" instead of the number.\n",
    "\n",
    "If the number is divisible by 3 and 5, print \"FizzBuzz\" instead of the number."
   ]
  },
  {
   "cell_type": "code",
   "execution_count": 3,
   "id": "0ba981e3",
   "metadata": {},
   "outputs": [
    {
     "name": "stdout",
     "output_type": "stream",
     "text": [
      "Please enter a number: 5\n",
      "Buzz\n"
     ]
    }
   ],
   "source": [
    "num = int(input(\"Please enter a number: \"))\n",
    "\n",
    "if num % 3 == 0 and num % 5 == 0:\n",
    "    print(\"FizzBuzz\")\n",
    "elif num % 3 == 0:\n",
    "    print(\"Fizz\")\n",
    "elif num % 5 == 0:\n",
    "    print(\"Buzz\")\n",
    "else:\n",
    "    print(num)"
   ]
  }
 ],
 "metadata": {
  "kernelspec": {
   "display_name": "Python 3 (ipykernel)",
   "language": "python",
   "name": "python3"
  },
  "language_info": {
   "codemirror_mode": {
    "name": "ipython",
    "version": 3
   },
   "file_extension": ".py",
   "mimetype": "text/x-python",
   "name": "python",
   "nbconvert_exporter": "python",
   "pygments_lexer": "ipython3",
   "version": "3.8.10"
  }
 },
 "nbformat": 4,
 "nbformat_minor": 5
}
