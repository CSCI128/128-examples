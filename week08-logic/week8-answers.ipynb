{
 "cells": [
  {
   "cell_type": "markdown",
   "id": "629847db",
   "metadata": {},
   "source": [
    "**Topics Covered**: Lists, logic\n",
    "\n",
    "**Keywords**: List, array, contains, methods, append, concatenate, mutable, length"
   ]
  },
  {
   "cell_type": "markdown",
   "id": "22060fdd",
   "metadata": {},
   "source": [
    "**Example 1**: Check if user input contains \"banana\"; if so, don't print the message and send the user an error message. Otherwise, print the message.\n",
    "\n",
    "*Extension Question*: When is this useful in the real world?"
   ]
  },
  {
   "cell_type": "code",
   "execution_count": 19,
   "id": "3d67eec6",
   "metadata": {},
   "outputs": [
    {
     "name": "stdout",
     "output_type": "stream",
     "text": [
      "Please enter a string: banana\n",
      "You are not allowed to say that!\n"
     ]
    }
   ],
   "source": [
    "user_input = input(\"Please enter a string: \")\n",
    "\n",
    "if 'banana' in user_input:\n",
    "    print(\"You are not allowed to say that!\")\n",
    "else:\n",
    "    print(user_input)"
   ]
  },
  {
   "cell_type": "markdown",
   "id": "4493fdb7",
   "metadata": {},
   "source": [
    "**Example 2**: Check for duplicates in the following two given lists. Create a new list with all of the unique elements. Print out the result.\n",
    "\n",
    "Challenge: Sort the final list alphabetically before printing it out."
   ]
  },
  {
   "cell_type": "code",
   "execution_count": 14,
   "id": "d31321a7",
   "metadata": {},
   "outputs": [
    {
     "name": "stdout",
     "output_type": "stream",
     "text": [
      "['Argentina', 'Australia', 'Canada', 'France', 'Germany', 'Mexico', 'United Kingdom', 'United States']\n",
      "['Argentina', 'Australia', 'Canada', 'France', 'Germany', 'Mexico', 'United Kingdom', 'United States']\n"
     ]
    }
   ],
   "source": [
    "list_one = [\"United States\", \"Mexico\", \"Canada\", \"United Kingdom\"]\n",
    "list_two = [\"Australia\", \"France\", \"United States\", \"Argentina\", \"Germany\", \"United Kingdom\"]\n",
    "new_list = []\n",
    "\n",
    "# Beginner Solution\n",
    "for country in list_one:\n",
    "    new_list.append(country)\n",
    "    \n",
    "for country in list_two:\n",
    "    if country not in new_list:\n",
    "        new_list.append(country)\n",
    "    \n",
    "new_list.sort()\n",
    "print(new_list)\n",
    "\n",
    "# Advanced Solution\n",
    "new_list = list(set(list_one + list_two))\n",
    "new_list.sort()\n",
    "print(new_list)"
   ]
  },
  {
   "cell_type": "markdown",
   "id": "a9fbd31c",
   "metadata": {},
   "source": [
    "**Example 3**: What does the following code output?"
   ]
  },
  {
   "cell_type": "code",
   "execution_count": 1,
   "id": "9c48d1a7",
   "metadata": {},
   "outputs": [
    {
     "name": "stdout",
     "output_type": "stream",
     "text": [
      "3\n",
      "3\n",
      "True\n",
      "True\n"
     ]
    }
   ],
   "source": [
    "x = 5\n",
    "y = 3\n",
    "x = y\n",
    "print(y)\n",
    "y = y + 4\n",
    "print(x)\n",
    "z = 7\n",
    "print(y == z)\n",
    "print(y is z)"
   ]
  }
 ],
 "metadata": {
  "kernelspec": {
   "display_name": "Python 3 (ipykernel)",
   "language": "python",
   "name": "python3"
  },
  "language_info": {
   "codemirror_mode": {
    "name": "ipython",
    "version": 3
   },
   "file_extension": ".py",
   "mimetype": "text/x-python",
   "name": "python",
   "nbconvert_exporter": "python",
   "pygments_lexer": "ipython3",
   "version": "3.8.10"
  }
 },
 "nbformat": 4,
 "nbformat_minor": 5
}
