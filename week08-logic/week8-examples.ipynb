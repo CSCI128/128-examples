{
 "cells": [
  {
   "cell_type": "markdown",
   "id": "e4926c06",
   "metadata": {},
   "source": [
    "**Example 1**: Check if user input contains \"banana\"; if so, don't print the message and send the user an error message. Otherwise, print the message.\n",
    "\n",
    "*Extension Question*: When is this useful in the real world?"
   ]
  },
  {
   "cell_type": "code",
   "execution_count": null,
   "id": "328702ea",
   "metadata": {},
   "outputs": [],
   "source": []
  },
  {
   "cell_type": "markdown",
   "id": "5957f610",
   "metadata": {},
   "source": [
    "**Example 2**: Check for duplicates in the following two given lists. Create a new list with all of the unique elements. Print out the result.\n",
    "\n",
    "Challenge: Sort the final list alphabetically before printing it out."
   ]
  },
  {
   "cell_type": "code",
   "execution_count": 1,
   "id": "94942842",
   "metadata": {},
   "outputs": [],
   "source": [
    "list_one = [\"United States\", \"Mexico\", \"Canada\", \"United Kingdom\"]\n",
    "list_two = [\"Australia\", \"France\", \"United States\", \"Argentina\", \"Germany\", \"United Kingdom\"]\n",
    "new_list = []"
   ]
  },
  {
   "cell_type": "markdown",
   "id": "508f9457",
   "metadata": {},
   "source": [
    "**Example 3**: What does the following code output?"
   ]
  },
  {
   "cell_type": "code",
   "execution_count": null,
   "id": "9a73f76c",
   "metadata": {},
   "outputs": [],
   "source": [
    "x = 5\n",
    "y = 3\n",
    "x = y\n",
    "print(y)\n",
    "y = y + 4\n",
    "print(x)\n",
    "z = 7\n",
    "print(y == z)\n",
    "print(y is z)"
   ]
  }
 ],
 "metadata": {
  "kernelspec": {
   "display_name": "Python 3 (ipykernel)",
   "language": "python",
   "name": "python3"
  },
  "language_info": {
   "codemirror_mode": {
    "name": "ipython",
    "version": 3
   },
   "file_extension": ".py",
   "mimetype": "text/x-python",
   "name": "python",
   "nbconvert_exporter": "python",
   "pygments_lexer": "ipython3",
   "version": "3.8.10"
  }
 },
 "nbformat": 4,
 "nbformat_minor": 5
}
