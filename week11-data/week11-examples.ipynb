{
 "cells": [
  {
   "cell_type": "markdown",
   "id": "83e6d687",
   "metadata": {},
   "source": [
    "**Topics Covered**: Data & Data Science w/ pyplot"
   ]
  },
  {
   "cell_type": "markdown",
   "id": "d31d206f",
   "metadata": {},
   "source": [
    "**Pyplot Tutorial**: https://matplotlib.org/3.5.3/tutorials/introductory/pyplot.html "
   ]
  },
  {
   "cell_type": "markdown",
   "id": "6c62a205",
   "metadata": {},
   "source": [
    "**Example 1**: Plot `[1, 2, 3, 4]`. What happens?\n",
    "\n",
    "Then, plot `[1, 2, 50, 3, 99]`. What happens?\n",
    "\n",
    "What does an array represent in terms of plotting a graph in pyplot?"
   ]
  },
  {
   "cell_type": "code",
   "execution_count": null,
   "id": "cfbf3472",
   "metadata": {},
   "outputs": [],
   "source": [
    "import matplotlib.pyplot as plt\n",
    "\n",
    "# plot here\n",
    "\n",
    "plt.ylabel('Fun Values')\n",
    "plt.show()"
   ]
  },
  {
   "cell_type": "markdown",
   "id": "631da168",
   "metadata": {},
   "source": [
    "**Example 2** (Challenge): Using data from `messi.csv`, plot how many goals Lionel Messi has scored per season. (Data from [FBRef](https://fbref.com/en/))\n",
    "\n",
    "Data is given in the format: `Season,Age,Squad,Country,Comp,LgRank,MP,Starts,Min,90s,Gls,Ast,G+A,G-PK,PK,PKatt,CrdY,CrdR,xG,npxG,xAG,npxG+xAG,PrgC,PrgP,PrgR,Gls,Ast,G+A,G-PK,G+A-PK,xG,xAG,xG+xAG,npxG,npxG+xAG,Matches` "
   ]
  },
  {
   "cell_type": "code",
   "execution_count": null,
   "id": "4ccd2888",
   "metadata": {},
   "outputs": [],
   "source": [
    "import csv\n",
    "import matplotlib.pyplot as plt\n",
    "\n",
    "# read in CSV here\n",
    "\n",
    "plt.xticks(rotation=45, ha='right') # this fixes x-axis scaling with the season string\n",
    "# plot here\n",
    "plt.title('Lionel Messi Goals Scored vs. Season')\n",
    "# remember labels here\n",
    "plt.show()"
   ]
  }
 ],
 "metadata": {
  "kernelspec": {
   "display_name": "Python 3 (ipykernel)",
   "language": "python",
   "name": "python3"
  },
  "language_info": {
   "codemirror_mode": {
    "name": "ipython",
    "version": 3
   },
   "file_extension": ".py",
   "mimetype": "text/x-python",
   "name": "python",
   "nbconvert_exporter": "python",
   "pygments_lexer": "ipython3",
   "version": "3.8.10"
  }
 },
 "nbformat": 4,
 "nbformat_minor": 5
}
