{
 "cells": [
  {
   "cell_type": "markdown",
   "id": "e9017d5c",
   "metadata": {},
   "source": [
    "**Topics Covered**: Advanced Python\n",
    "\n",
    "**Keywords**: Dictionaries, list comprehensions"
   ]
  },
  {
   "cell_type": "markdown",
   "id": "68471497",
   "metadata": {},
   "source": [
    "**Example 1**: Given the following list, modify it to contain each player's last name and print the new list out **in one line** of code."
   ]
  },
  {
   "cell_type": "code",
   "execution_count": 1,
   "id": "4b14549a",
   "metadata": {},
   "outputs": [
    {
     "name": "stdout",
     "output_type": "stream",
     "text": [
      "['Jokić', 'James', 'Curry', 'Harden', 'Butler', 'Antetokounmpo', 'Davis']\n"
     ]
    }
   ],
   "source": [
    "nba_players = ['Nikola Jokić', 'LeBron James', 'Stephen Curry', 'James Harden', 'Jimmy Butler', 'Giannis Antetokounmpo', 'Anthony Davis']\n",
    "\n",
    "print([player.split(\" \")[1] for player in nba_players])\n",
    "\n",
    "# How we would do this without list comprehensions:\n",
    "# new_list = []\n",
    "# for player in nba_players:\n",
    "#     new_list.append(player.split(\" \")[1])\n",
    "# print(new_list)"
   ]
  },
  {
   "cell_type": "markdown",
   "id": "d69f7664",
   "metadata": {},
   "source": [
    "**Example 2**: Given the following dictionary, perform the following operations:\n",
    "1. Update the capital of `Indonesia` to `Nusantara`\n",
    "2. Remove the country 'Tatooine' from the dictionary\n",
    "3. Add a country named `Turkiye` with capital `Ankara` to the dictionary\n",
    "4. Print out each entry in the dictionary in the format: `{capital}, {country}`\n",
    "\n",
    "Note: We can also use `sorted()` to sort the dictionary **by key**. By value is a little more nuanced - we won't get into it here."
   ]
  },
  {
   "cell_type": "code",
   "execution_count": 2,
   "id": "20f95b38",
   "metadata": {},
   "outputs": [
    {
     "name": "stdout",
     "output_type": "stream",
     "text": [
      "Buenos Aires, Argentina\n",
      "Brussels, Belgium\n",
      "Zagreb, Croatia\n",
      "Cairo, Egypt\n",
      "Athens, Greece\n",
      "Nusantara, Indonesia\n",
      "Oslo, Norway\n",
      "Bern, Switzerland\n",
      "Ankara, Turkiye\n",
      "London, United Kingdom\n",
      "Washington D.C., United States\n"
     ]
    }
   ],
   "source": [
    "capitals = {\n",
    "    'United States': 'Washington D.C.',\n",
    "    'Switzerland': 'Bern',\n",
    "    'United Kingdom': 'London',\n",
    "    'Greece': 'Athens',\n",
    "    'Croatia': 'Zagreb',\n",
    "    'Belgium': 'Brussels',\n",
    "    'Tatooine': 'Mos Eisley',\n",
    "    'Egypt': 'Cairo',\n",
    "    'Norway': 'Oslo',\n",
    "    'Indonesia': 'Jakarta',\n",
    "    'Argentina': 'Buenos Aires',\n",
    "}\n",
    "\n",
    "# Step 1\n",
    "capitals['Indonesia'] = 'Nusantara'\n",
    "\n",
    "# Step 2\n",
    "del capitals[\"Tatooine\"]\n",
    "\n",
    "# Step 3\n",
    "capitals.update({'Turkiye': 'Ankara'})\n",
    "\n",
    "# Step 4\n",
    "for country, capital in sorted(capitals.items()):\n",
    "    print(f\"{capital}, {country}\")"
   ]
  }
 ],
 "metadata": {
  "kernelspec": {
   "display_name": "Python 3",
   "language": "python",
   "name": "python3"
  },
  "language_info": {
   "codemirror_mode": {
    "name": "ipython",
    "version": 3
   },
   "file_extension": ".py",
   "mimetype": "text/x-python",
   "name": "python",
   "nbconvert_exporter": "python",
   "pygments_lexer": "ipython3",
   "version": "3.9.1"
  }
 },
 "nbformat": 4,
 "nbformat_minor": 5
}
