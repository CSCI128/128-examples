{
 "cells": [
  {
   "cell_type": "markdown",
   "id": "6d650b33",
   "metadata": {},
   "source": [
    "**Topics Covered**: Advanced Python\n",
    "\n",
    "**Keywords**: Dictionaries, list comprehensions"
   ]
  },
  {
   "cell_type": "markdown",
   "id": "41ff419f",
   "metadata": {},
   "source": [
    "**Example 1**: Given the following list, modify it to contain each player's last name and print the new list out **in one line** of code."
   ]
  },
  {
   "cell_type": "code",
   "execution_count": null,
   "id": "15fd7ddd",
   "metadata": {},
   "outputs": [],
   "source": [
    "nba_players = ['Nikola Jokić', 'LeBron James', 'Stephen Curry', 'James Harden', 'Jimmy Butler', 'Giannis Antetokounmpo', 'Anthony Davis']\n"
   ]
  },
  {
   "cell_type": "markdown",
   "id": "6d14cd6a",
   "metadata": {},
   "source": [
    "**Example 2**: Given the following dictionary, perform the following operations:\n",
    "1. Update the capital of `Indonesia` to `Nusantara`\n",
    "2. Remove the country 'Tatooine' from the dictionary\n",
    "3. Add a country named `Turkiye` with capital `Ankara` to the dictionary\n",
    "4. Print out each entry in the dictionary in the format: `{capital}, {country}`\n",
    "\n",
    "Note: We can also use `sorted()` to sort the dictionary **by key**. By value is a little more nuanced - we won't get into it here."
   ]
  },
  {
   "cell_type": "code",
   "execution_count": null,
   "id": "a43e9857",
   "metadata": {},
   "outputs": [],
   "source": [
    "capitals = {\n",
    "    'United States': 'Washington D.C.',\n",
    "    'Switzerland': 'Bern',\n",
    "    'United Kingdom': 'London',\n",
    "    'Greece': 'Athens',\n",
    "    'Croatia': 'Zagreb',\n",
    "    'Belgium': 'Brussels',\n",
    "    'Tatooine': 'Mos Eisley',\n",
    "    'Egypt': 'Cairo',\n",
    "    'Norway': 'Oslo',\n",
    "    'Indonesia': 'Jakarta',\n",
    "    'Argentina': 'Buenos Aires',\n",
    "}\n",
    "\n",
    "# Step 1\n",
    "\n",
    "\n",
    "# Step 2\n",
    "\n",
    "\n",
    "# Step 3\n",
    "\n",
    "\n",
    "# Step 4\n"
   ]
  }
 ],
 "metadata": {
  "kernelspec": {
   "display_name": "Python 3",
   "language": "python",
   "name": "python3"
  },
  "language_info": {
   "codemirror_mode": {
    "name": "ipython",
    "version": 3
   },
   "file_extension": ".py",
   "mimetype": "text/x-python",
   "name": "python",
   "nbconvert_exporter": "python",
   "pygments_lexer": "ipython3",
   "version": "3.9.1"
  }
 },
 "nbformat": 4,
 "nbformat_minor": 5
}
