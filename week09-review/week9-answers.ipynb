{
 "cells": [
  {
   "cell_type": "markdown",
   "id": "f939e6e8",
   "metadata": {},
   "source": [
    "**Question 1**: What is the difference between the = and == operators?"
   ]
  },
  {
   "cell_type": "markdown",
   "id": "504c36cb",
   "metadata": {},
   "source": [
    "The = operator assigns a value to a variable.\n",
    "\n",
    "The == compares two variables and returns a boolean of their equality."
   ]
  },
  {
   "cell_type": "markdown",
   "id": "0cfbb46f",
   "metadata": {},
   "source": [
    "**Question 2**: What is an expression and what is a statement?"
   ]
  },
  {
   "cell_type": "markdown",
   "id": "11fcae4b",
   "metadata": {},
   "source": [
    "An expression is code which is evaluated by the Python interpreter.\n",
    "\n",
    "A statement is an instruction which the Python interpreter executes."
   ]
  },
  {
   "cell_type": "markdown",
   "id": "ec2d647c",
   "metadata": {},
   "source": [
    "**Question 3**: Can all for loops be rewritten as while loops?"
   ]
  },
  {
   "cell_type": "markdown",
   "id": "6744199d",
   "metadata": {},
   "source": [
    "Yes! However, it often may be more difficult to rewrite while loops as for loops depending on the use case."
   ]
  },
  {
   "cell_type": "markdown",
   "id": "ef69cb47",
   "metadata": {},
   "source": [
    "**Question 4**: How do we convert one type to another?"
   ]
  },
  {
   "cell_type": "markdown",
   "id": "bf872b73",
   "metadata": {},
   "source": [
    "Using type conversion functions, like int(), float(), str(), list()."
   ]
  },
  {
   "cell_type": "markdown",
   "id": "a2e34c3d",
   "metadata": {},
   "source": [
    "**Question 5**: What is a function parameter and what is a function argument?"
   ]
  },
  {
   "cell_type": "markdown",
   "id": "2ea6b1f1",
   "metadata": {},
   "source": [
    "A function parameter is what the function is expecting, ex. num1 and num2 in sum(num1, num2)\n",
    "\n",
    "A function argument is what is being passed into the function, ex. 3 and 4 in sum(3, 4)"
   ]
  },
  {
   "cell_type": "markdown",
   "id": "c6cd89f7",
   "metadata": {},
   "source": [
    "**Example 1**: Write a program that asks the user for an int, string, and float. Add all of these to a list and print it out."
   ]
  },
  {
   "cell_type": "code",
   "execution_count": 3,
   "id": "243c838a",
   "metadata": {},
   "outputs": [
    {
     "name": "stdout",
     "output_type": "stream",
     "text": [
      "Please enter an int: 3\n",
      "Please enter a string: test\n",
      "Please enter a float: .385\n",
      "[3, 'test', 0.385]\n"
     ]
    }
   ],
   "source": [
    "new_list = []\n",
    "num = int(input(\"Please enter an int: \"))\n",
    "string = input(\"Please enter a string: \") # str not necessary here!\n",
    "decimal = float(input(\"Please enter a float: \"))\n",
    "\n",
    "# useful shortcut:\n",
    "# new_list = [num, string, decimal] \n",
    "\n",
    "new_list.append(num)\n",
    "new_list.append(string)\n",
    "new_list.append(decimal) # we could also just put the input statements inside of here..\n",
    "\n",
    "print(new_list)"
   ]
  },
  {
   "cell_type": "markdown",
   "id": "53a9705c",
   "metadata": {},
   "source": [
    "**Example 2**: Write a function that gets a number and returns whether the number is even or odd."
   ]
  },
  {
   "cell_type": "code",
   "execution_count": 4,
   "id": "c2e14bfd",
   "metadata": {},
   "outputs": [
    {
     "name": "stdout",
     "output_type": "stream",
     "text": [
      "True\n",
      "False\n",
      "False\n"
     ]
    }
   ],
   "source": [
    "def is_even(num):\n",
    "    return num % 2 == 0\n",
    "\n",
    "print(is_even(2))\n",
    "print(is_even(3))\n",
    "print(is_even(3943185))"
   ]
  },
  {
   "cell_type": "markdown",
   "id": "f565b0e1",
   "metadata": {},
   "source": [
    "**Example 3**: Write a program that adds (3 * current number) to every number in an array."
   ]
  },
  {
   "cell_type": "code",
   "execution_count": 7,
   "id": "fd1d8bb9",
   "metadata": {},
   "outputs": [
    {
     "name": "stdout",
     "output_type": "stream",
     "text": [
      "[4, 8, 12, 16, 20]\n"
     ]
    }
   ],
   "source": [
    "nums = [1, 2, 3, 4, 5]\n",
    "\n",
    "for i in range(0, len(nums)):\n",
    "    nums[i] = nums[i] + (3 * nums[i])\n",
    "\n",
    "print(nums)"
   ]
  },
  {
   "cell_type": "code",
   "execution_count": null,
   "id": "80df8736",
   "metadata": {},
   "outputs": [],
   "source": []
  }
 ],
 "metadata": {
  "kernelspec": {
   "display_name": "Python 3 (ipykernel)",
   "language": "python",
   "name": "python3"
  },
  "language_info": {
   "codemirror_mode": {
    "name": "ipython",
    "version": 3
   },
   "file_extension": ".py",
   "mimetype": "text/x-python",
   "name": "python",
   "nbconvert_exporter": "python",
   "pygments_lexer": "ipython3",
   "version": "3.8.10"
  }
 },
 "nbformat": 4,
 "nbformat_minor": 5
}
