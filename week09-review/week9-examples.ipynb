{
 "cells": [
  {
   "cell_type": "markdown",
   "id": "ea59c77c",
   "metadata": {},
   "source": [
    "**Question 1**: What is the difference between the = and == operators?"
   ]
  },
  {
   "cell_type": "markdown",
   "id": "14bd13c5",
   "metadata": {},
   "source": []
  },
  {
   "cell_type": "markdown",
   "id": "8bc85d94",
   "metadata": {},
   "source": [
    "**Question 2**: What is an expression and what is a statement?"
   ]
  },
  {
   "cell_type": "markdown",
   "id": "bf43fe88",
   "metadata": {},
   "source": []
  },
  {
   "cell_type": "markdown",
   "id": "a48a49a1",
   "metadata": {},
   "source": [
    "**Question 3**: Can all for loops be rewritten as while loops?"
   ]
  },
  {
   "cell_type": "markdown",
   "id": "b75856a3",
   "metadata": {},
   "source": []
  },
  {
   "cell_type": "markdown",
   "id": "d38dba49",
   "metadata": {},
   "source": [
    "**Question 4**: How do we convert one type to another?"
   ]
  },
  {
   "cell_type": "markdown",
   "id": "b9f9f10d",
   "metadata": {},
   "source": []
  },
  {
   "cell_type": "markdown",
   "id": "8ad10a7f",
   "metadata": {},
   "source": [
    "**Question 5**: What is a function parameter and what is a function argument?"
   ]
  },
  {
   "cell_type": "markdown",
   "id": "c40d9854",
   "metadata": {},
   "source": []
  },
  {
   "cell_type": "markdown",
   "id": "7229f1bf",
   "metadata": {},
   "source": [
    "**Example 1**: Write a program that asks the user for an int, string, and float. Add all of these to a list and print it out."
   ]
  },
  {
   "cell_type": "code",
   "execution_count": null,
   "id": "a93768f4",
   "metadata": {},
   "outputs": [],
   "source": []
  },
  {
   "cell_type": "markdown",
   "id": "20782c0a",
   "metadata": {},
   "source": [
    "**Example 2**: Write a function that gets a number and returns whether the number is even or odd."
   ]
  },
  {
   "cell_type": "code",
   "execution_count": null,
   "id": "6d1a1f7e",
   "metadata": {},
   "outputs": [],
   "source": []
  },
  {
   "cell_type": "markdown",
   "id": "a6bc103a",
   "metadata": {},
   "source": [
    "**Example 3**: Write a program that adds $3 * array[i]$ to every number in an array."
   ]
  },
  {
   "cell_type": "code",
   "execution_count": null,
   "id": "c0b35539",
   "metadata": {},
   "outputs": [],
   "source": [
    "nums = [1, 2, 3, 4, 5]"
   ]
  },
  {
   "cell_type": "markdown",
   "id": "c4f4b2cb",
   "metadata": {},
   "source": [
    "**Example 4**: Given an array representing a tic-tac-toe board, write a function called `print_board` that prints out any given board with the following formatting:\n",
    "\n",
    "X | O | X\n",
    "\n",
    "O | X | O\n",
    "\n",
    "O | O | X"
   ]
  },
  {
   "cell_type": "code",
   "execution_count": null,
   "id": "15708568",
   "metadata": {},
   "outputs": [],
   "source": [
    "# function goes here\n",
    "\n",
    "board = [ ['X', 'O', 'X'], ['O', 'X', 'O'], ['O', 'O', 'X'] ]\n",
    "print_board(board)"
   ]
  }
 ],
 "metadata": {
  "kernelspec": {
   "display_name": "Python 3 (ipykernel)",
   "language": "python",
   "name": "python3"
  },
  "language_info": {
   "codemirror_mode": {
    "name": "ipython",
    "version": 3
   },
   "file_extension": ".py",
   "mimetype": "text/x-python",
   "name": "python",
   "nbconvert_exporter": "python",
   "pygments_lexer": "ipython3",
   "version": "3.8.10"
  }
 },
 "nbformat": 4,
 "nbformat_minor": 5
}
